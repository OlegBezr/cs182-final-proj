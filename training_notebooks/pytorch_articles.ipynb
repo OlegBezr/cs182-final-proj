{
<<<<<<< HEAD
 "cells": [
  {
   "cell_type": "markdown",
   "metadata": {
    "id": "Xf3Qw77SZGbS"
   },
   "source": [
    "# Setup"
   ]
  },
  {
   "cell_type": "code",
   "execution_count": 1,
   "metadata": {
    "colab": {
     "base_uri": "https://localhost:8080/"
=======
  "cells": [
    {
      "cell_type": "markdown",
      "metadata": {
        "id": "Xf3Qw77SZGbS"
      },
      "source": [
        "# Setup"
      ]
>>>>>>> f68f680d0d381d42b7ed2e4686c386fc0252000d
    },
    "id": "0NmMdkZO8R6q",
    "outputId": "9c40d63d-2099-498c-b260-b4c9e07ff0f3"
   },
   "outputs": [
    {
<<<<<<< HEAD
     "name": "stdout",
     "output_type": "stream",
     "text": [
      "Requirement already satisfied: transformers in /usr/local/lib/python3.10/dist-packages (4.35.2)\n",
      "Requirement already satisfied: filelock in /usr/local/lib/python3.10/dist-packages (from transformers) (3.13.1)\n",
      "Requirement already satisfied: huggingface-hub<1.0,>=0.16.4 in /usr/local/lib/python3.10/dist-packages (from transformers) (0.19.4)\n",
      "Requirement already satisfied: numpy>=1.17 in /usr/local/lib/python3.10/dist-packages (from transformers) (1.23.5)\n",
      "Requirement already satisfied: packaging>=20.0 in /usr/local/lib/python3.10/dist-packages (from transformers) (23.2)\n",
      "Requirement already satisfied: pyyaml>=5.1 in /usr/local/lib/python3.10/dist-packages (from transformers) (6.0.1)\n",
      "Requirement already satisfied: regex!=2019.12.17 in /usr/local/lib/python3.10/dist-packages (from transformers) (2023.6.3)\n",
      "Requirement already satisfied: requests in /usr/local/lib/python3.10/dist-packages (from transformers) (2.31.0)\n",
      "Requirement already satisfied: tokenizers<0.19,>=0.14 in /usr/local/lib/python3.10/dist-packages (from transformers) (0.15.0)\n",
      "Requirement already satisfied: safetensors>=0.3.1 in /usr/local/lib/python3.10/dist-packages (from transformers) (0.4.0)\n",
      "Requirement already satisfied: tqdm>=4.27 in /usr/local/lib/python3.10/dist-packages (from transformers) (4.66.1)\n",
      "Requirement already satisfied: fsspec>=2023.5.0 in /usr/local/lib/python3.10/dist-packages (from huggingface-hub<1.0,>=0.16.4->transformers) (2023.6.0)\n",
      "Requirement already satisfied: typing-extensions>=3.7.4.3 in /usr/local/lib/python3.10/dist-packages (from huggingface-hub<1.0,>=0.16.4->transformers) (4.5.0)\n",
      "Requirement already satisfied: charset-normalizer<4,>=2 in /usr/local/lib/python3.10/dist-packages (from requests->transformers) (3.3.2)\n",
      "Requirement already satisfied: idna<4,>=2.5 in /usr/local/lib/python3.10/dist-packages (from requests->transformers) (3.4)\n",
      "Requirement already satisfied: urllib3<3,>=1.21.1 in /usr/local/lib/python3.10/dist-packages (from requests->transformers) (2.0.7)\n",
      "Requirement already satisfied: certifi>=2017.4.17 in /usr/local/lib/python3.10/dist-packages (from requests->transformers) (2023.7.22)\n"
     ]
    }
   ],
   "source": [
    "!pip install transformers"
   ]
  },
  {
   "cell_type": "code",
   "execution_count": 2,
   "metadata": {
    "colab": {
     "base_uri": "https://localhost:8080/"
    },
    "id": "JCCeyhuDHdOu",
    "outputId": "6ecd13e3-736b-44ff-f0fd-8c618e48ee73"
   },
   "outputs": [
    {
     "name": "stderr",
     "output_type": "stream",
     "text": [
      "[nltk_data] Downloading package punkt to /root/nltk_data...\n",
      "[nltk_data]   Package punkt is already up-to-date!\n"
     ]
    },
    {
     "data": {
      "text/plain": [
       "True"
      ]
     },
     "execution_count": 2,
     "metadata": {},
     "output_type": "execute_result"
    }
   ],
   "source": [
    "import os\n",
    "import time\n",
    "import datetime\n",
    "from google.colab import drive\n",
    "\n",
    "import pandas as pd\n",
    "import seaborn as sns\n",
    "import numpy as np\n",
    "import random\n",
    "\n",
    "import matplotlib.pyplot as plt\n",
    "\n",
    "import torch\n",
    "from torch.utils.data import Dataset, DataLoader, random_split, RandomSampler, SequentialSampler\n",
    "torch.manual_seed(42)\n",
    "\n",
    "from transformers import GPT2LMHeadModel,  GPT2Tokenizer, GPT2Config, GPT2LMHeadModel\n",
    "from transformers import AdamW, get_linear_schedule_with_warmup\n",
    "\n",
    "import nltk\n",
    "nltk.download('punkt')"
   ]
  },
  {
   "cell_type": "code",
   "execution_count": 3,
   "metadata": {
    "colab": {
     "base_uri": "https://localhost:8080/"
    },
    "id": "satxtOn9CzgR",
    "outputId": "3c63ddee-645a-4198-9ab8-d9a75c623e2c"
   },
   "outputs": [
    {
     "name": "stdout",
     "output_type": "stream",
     "text": [
      "Wed Nov 29 06:22:08 2023       \n",
      "+-----------------------------------------------------------------------------+\n",
      "| NVIDIA-SMI 525.105.17   Driver Version: 525.105.17   CUDA Version: 12.0     |\n",
      "|-------------------------------+----------------------+----------------------+\n",
      "| GPU  Name        Persistence-M| Bus-Id        Disp.A | Volatile Uncorr. ECC |\n",
      "| Fan  Temp  Perf  Pwr:Usage/Cap|         Memory-Usage | GPU-Util  Compute M. |\n",
      "|                               |                      |               MIG M. |\n",
      "|===============================+======================+======================|\n",
      "|   0  Tesla V100-SXM2...  Off  | 00000000:00:04.0 Off |                    0 |\n",
      "| N/A   32C    P0    24W / 300W |      0MiB / 16384MiB |      0%      Default |\n",
      "|                               |                      |                  N/A |\n",
      "+-------------------------------+----------------------+----------------------+\n",
      "                                                                               \n",
      "+-----------------------------------------------------------------------------+\n",
      "| Processes:                                                                  |\n",
      "|  GPU   GI   CI        PID   Type   Process name                  GPU Memory |\n",
      "|        ID   ID                                                   Usage      |\n",
      "|=============================================================================|\n",
      "|  No running processes found                                                 |\n",
      "+-----------------------------------------------------------------------------+\n"
     ]
    }
   ],
   "source": [
    "!nvidia-smi"
   ]
  },
  {
   "cell_type": "markdown",
   "metadata": {
    "id": "ZfdCML6Parvv"
   },
   "source": [
    "# Create Training Set\n",
    "\n",
    "The data used to finetune the language model is a set of around 1000 DJ biographies, with the aim of generating them in the same general format and style.\n",
    "\n",
    "This data isn't public so if you want to use this script, you'll have to source your own training set."
   ]
  },
  {
   "cell_type": "code",
   "execution_count": 4,
   "metadata": {
    "colab": {
     "base_uri": "https://localhost:8080/"
    },
    "id": "ya3zsH0r-3JK",
    "outputId": "c225d698-6425-47d5-8f8f-8386dc38843f"
   },
   "outputs": [
    {
     "name": "stdout",
     "output_type": "stream",
     "text": [
      "472\n"
     ]
    }
   ],
   "source": [
    "df = pd.read_csv(\"final_labels_MBIC.csv\", sep=';')\n",
    "df.dropna(inplace=True)\n",
    "\n",
    "left_data = df[(df['type'] == 'left') & (df['label_bias'] == 'Biased')]['article']\n",
    "print(len(left_data))"
   ]
  },
  {
   "cell_type": "code",
   "execution_count": 5,
   "metadata": {
    "colab": {
     "base_uri": "https://localhost:8080/",
     "height": 638
    },
    "id": "cKsH2sU0OCQA",
    "outputId": "c38fc2eb-fc94-45cd-a8eb-5fa5ad85de94"
   },
   "outputs": [
    {
     "name": "stderr",
     "output_type": "stream",
     "text": [
      "<ipython-input-5-4cbab5dd000d>:9: UserWarning: \n",
      "\n",
      "`distplot` is a deprecated function and will be removed in seaborn v0.14.0.\n",
      "\n",
      "Please adapt your code to use either `displot` (a figure-level function with\n",
      "similar flexibility) or `histplot` (an axes-level function for histograms).\n",
      "\n",
      "For a guide to updating your code to use the new functions, please see\n",
      "https://gist.github.com/mwaskom/de44147ed2974457ad6372750bbe5751\n",
      "\n",
      "  sns.distplot(article_lengths)\n"
     ]
    },
    {
     "data": {
      "text/plain": [
       "<Axes: ylabel='Density'>"
      ]
     },
     "execution_count": 5,
     "metadata": {},
     "output_type": "execute_result"
    },
    {
     "data": {
      "image/png": "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\n",
      "text/plain": [
       "<Figure size 640x480 with 1 Axes>"
      ]
     },
     "metadata": {},
     "output_type": "display_data"
    }
   ],
   "source": [
    "article_lengths = []\n",
    "\n",
    "for article in left_data:\n",
    "    # get rough token count distribution\n",
    "    tokens = nltk.word_tokenize(article)\n",
    "    article_lengths.append(len(tokens))\n",
    "\n",
    "article_lengths = np.array(article_lengths)\n",
    "sns.distplot(article_lengths)"
   ]
  },
  {
   "cell_type": "code",
   "execution_count": 6,
   "metadata": {
    "colab": {
     "base_uri": "https://localhost:8080/"
    },
    "id": "63t_69HjlwAj",
    "outputId": "1a5f47ad-1132-42a7-d350-438f84e75a03"
   },
   "outputs": [
    {
     "data": {
      "text/plain": [
       "933.4830508474577"
      ]
     },
     "execution_count": 6,
     "metadata": {},
     "output_type": "execute_result"
    }
   ],
   "source": [
    "np.average(article_lengths)"
   ]
  },
  {
   "cell_type": "markdown",
   "metadata": {
    "id": "cMml12FJGjPW"
   },
   "source": [
    "# GPT2 Tokenizer"
   ]
  },
  {
   "cell_type": "code",
   "execution_count": 7,
   "metadata": {
    "id": "Z474sSC6oe7A"
   },
   "outputs": [],
   "source": [
    "# Load the GPT tokenizer.\n",
    "tokenizer = GPT2Tokenizer.from_pretrained('gpt2', bos_token='<|startoftext|>', eos_token='<|endoftext|>', pad_token='<|pad|>') #gpt2-medium"
   ]
  },
  {
   "cell_type": "code",
   "execution_count": 8,
   "metadata": {
    "colab": {
     "base_uri": "https://localhost:8080/"
    },
    "id": "sh0XKuDvnryn",
    "outputId": "e97afe3f-fa76-4c8f-a4f4-2a33a00e0067"
   },
   "outputs": [
    {
     "name": "stdout",
     "output_type": "stream",
     "text": [
      "The max model length is 1024 for this model, although the actual embedding size for GPT small is 768\n",
      "The beginning of sequence token <|startoftext|> token has the id 50257\n",
      "The end of sequence token <|endoftext|> has the id 50256\n",
      "The padding token <|pad|> has the id 50258\n"
     ]
    }
   ],
   "source": [
    "print(\"The max model length is {} for this model, although the actual embedding size for GPT small is 768\".format(tokenizer.model_max_length))\n",
    "print(\"The beginning of sequence token {} token has the id {}\".format(tokenizer.convert_ids_to_tokens(tokenizer.bos_token_id), tokenizer.bos_token_id))\n",
    "print(\"The end of sequence token {} has the id {}\".format(tokenizer.convert_ids_to_tokens(tokenizer.eos_token_id), tokenizer.eos_token_id))\n",
    "print(\"The padding token {} has the id {}\".format(tokenizer.convert_ids_to_tokens(tokenizer.pad_token_id), tokenizer.pad_token_id))"
   ]
  },
  {
   "cell_type": "markdown",
   "metadata": {
    "id": "ex5O1eV-Pfct"
   },
   "source": [
    "# PyTorch Datasets & Dataloaders\n"
   ]
  },
  {
   "cell_type": "code",
   "execution_count": 9,
   "metadata": {
    "id": "scqrzmqhV__z"
   },
   "outputs": [],
   "source": [
    "batch_size = 5"
   ]
  },
  {
   "cell_type": "code",
   "execution_count": 10,
   "metadata": {
    "id": "U_XJVIetKN-h"
   },
   "outputs": [],
   "source": [
    "class GPT2Dataset(Dataset):\n",
    "  def __init__(self, txt_list, tokenizer, gpt2_type=\"gpt2\", max_length=768):\n",
    "    self.tokenizer = tokenizer\n",
    "    self.input_ids = []\n",
    "    self.attn_masks = []\n",
    "\n",
    "    for txt in txt_list:\n",
    "      encodings_dict = tokenizer('<|startoftext|>'+ txt + '<|endoftext|>', truncation=True, max_length=max_length, padding=\"max_length\")\n",
    "      self.input_ids.append(torch.tensor(encodings_dict['input_ids']))\n",
    "      self.attn_masks.append(torch.tensor(encodings_dict['attention_mask']))\n",
    "\n",
    "  def __len__(self):\n",
    "    return len(self.input_ids)\n",
    "\n",
    "  def __getitem__(self, idx):\n",
    "    return self.input_ids[idx], self.attn_masks[idx]"
   ]
  },
  {
   "cell_type": "code",
   "execution_count": 11,
   "metadata": {
    "colab": {
     "base_uri": "https://localhost:8080/"
    },
    "id": "Xza_O1_rD7yh",
    "outputId": "10eabf0e-6c21-4245-b009-78ac5d812816"
   },
   "outputs": [
    {
     "name": "stdout",
     "output_type": "stream",
     "text": [
      "  424 training samples\n",
      "   48 validation samples\n"
     ]
    }
   ],
   "source": [
    "dataset = GPT2Dataset(left_data, tokenizer, max_length=768)\n",
    "\n",
    "# Split into training and validation sets\n",
    "train_size = int(0.9 * len(dataset))\n",
    "val_size = len(dataset) - train_size\n",
    "\n",
    "train_dataset, val_dataset = random_split(dataset, [train_size, val_size])\n",
    "\n",
    "print('{:>5,} training samples'.format(train_size))\n",
    "print('{:>5,} validation samples'.format(val_size))"
   ]
  },
  {
   "cell_type": "code",
   "execution_count": 12,
   "metadata": {
    "id": "x0WeP5PREUuy"
   },
   "outputs": [],
   "source": [
    "# Create the DataLoaders for our training and validation datasets.\n",
    "train_dataloader = DataLoader(\n",
    "            train_dataset,  # The training samples.\n",
    "            sampler = RandomSampler(train_dataset), # Select batches randomly\n",
    "            batch_size = batch_size # Trains with this batch size.\n",
    "        )\n",
    "validation_dataloader = DataLoader(\n",
    "            val_dataset, # The validation samples.\n",
    "            sampler = SequentialSampler(val_dataset), # Pull out batches sequentially.\n",
    "            batch_size = batch_size # Evaluate with this batch size.\n",
    "        )"
   ]
  },
  {
   "cell_type": "markdown",
   "metadata": {
    "id": "D6TKgyUzPIQc"
   },
   "source": [
    "# Finetune GPT2 Language Model"
   ]
  },
  {
   "cell_type": "code",
   "execution_count": 13,
   "metadata": {
    "id": "gFsCTp_mporB"
   },
   "outputs": [],
   "source": [
    "configuration = GPT2Config.from_pretrained('gpt2', output_hidden_states=False)\n",
    "\n",
    "# instantiate the model\n",
    "model = GPT2LMHeadModel.from_pretrained(\"gpt2\", config=configuration)\n",
    "# otherwise the tokenizer and model tensors won't match up\n",
    "model.resize_token_embeddings(len(tokenizer))\n",
    "\n",
    "# Tell pytorch to run this model on the GPU.\n",
    "device = torch.device(\"cuda\")\n",
    "model.cuda()\n",
    "\n",
    "# Set the seed value all over the place to make this reproducible.\n",
    "seed_val = 42\n",
    "\n",
    "random.seed(seed_val)\n",
    "np.random.seed(seed_val)\n",
    "torch.manual_seed(seed_val)\n",
    "torch.cuda.manual_seed_all(seed_val)"
   ]
  },
  {
   "cell_type": "code",
   "execution_count": 14,
   "metadata": {
    "id": "pBEVY2PYSTXJ"
   },
   "outputs": [],
   "source": [
    "epochs = 5\n",
    "learning_rate = 5e-4\n",
    "warmup_steps = 1e2\n",
    "epsilon = 1e-8\n",
    "\n",
    "# this produces sample output every 100 steps\n",
    "sample_every = 100"
   ]
  },
  {
   "cell_type": "code",
   "execution_count": 15,
   "metadata": {
    "colab": {
     "base_uri": "https://localhost:8080/"
    },
    "id": "GLs72DuMODJO",
    "outputId": "4e18b86f-b805-4c62-81bc-2f5a228dffec"
   },
   "outputs": [
    {
     "name": "stderr",
     "output_type": "stream",
     "text": [
      "/usr/local/lib/python3.10/dist-packages/transformers/optimization.py:411: FutureWarning: This implementation of AdamW is deprecated and will be removed in a future version. Use the PyTorch implementation torch.optim.AdamW instead, or set `no_deprecation_warning=True` to disable this warning\n",
      "  warnings.warn(\n"
     ]
    }
   ],
   "source": [
    "optimizer = AdamW(model.parameters(),\n",
    "                  lr = learning_rate,\n",
    "                  eps = epsilon\n",
    "                )"
   ]
  },
  {
   "cell_type": "code",
   "execution_count": 16,
   "metadata": {
    "id": "-p0upAhhRiIx"
   },
   "outputs": [],
   "source": [
    "total_steps = len(train_dataloader) * epochs\n",
    "\n",
    "# Create the learning rate scheduler.\n",
    "scheduler = get_linear_schedule_with_warmup(optimizer,\n",
    "                                            num_warmup_steps = warmup_steps,\n",
    "                                            num_training_steps = total_steps)"
   ]
  },
  {
   "cell_type": "code",
   "execution_count": 17,
   "metadata": {
    "id": "gpt6tR83keZD"
   },
   "outputs": [],
   "source": [
    "def format_time(elapsed):\n",
    "    return str(datetime.timedelta(seconds=int(round((elapsed)))))"
   ]
  },
  {
   "cell_type": "code",
   "execution_count": 18,
   "metadata": {
    "colab": {
     "base_uri": "https://localhost:8080/"
    },
    "id": "vCPohrZ-CTWu",
    "outputId": "1eb6377a-9982-4daa-8c27-9786fc93427a"
   },
   "outputs": [
    {
     "name": "stdout",
     "output_type": "stream",
     "text": [
      "\n",
      "======== Epoch 1 / 5 ========\n",
      "Training...\n",
      "\n",
      "  Average training loss: 9.88\n",
      "  Training epoch took: 0:00:34\n",
      "\n",
      "Running Validation...\n",
      "  Validation Loss: 2.79\n",
      "  Validation took: 0:00:01\n",
      "\n",
      "======== Epoch 2 / 5 ========\n",
      "Training...\n",
      "\n",
      "  Average training loss: 2.37\n",
      "  Training epoch took: 0:00:31\n",
      "\n",
      "Running Validation...\n",
      "  Validation Loss: 2.34\n",
      "  Validation took: 0:00:01\n",
      "\n",
      "======== Epoch 3 / 5 ========\n",
      "Training...\n",
      "\n",
      "  Average training loss: 2.00\n",
      "  Training epoch took: 0:00:31\n",
      "\n",
      "Running Validation...\n",
      "  Validation Loss: 2.17\n",
      "  Validation took: 0:00:01\n",
      "\n",
      "======== Epoch 4 / 5 ========\n",
      "Training...\n",
      "\n",
      "  Average training loss: 1.78\n",
      "  Training epoch took: 0:00:32\n",
      "\n",
      "Running Validation...\n",
      "  Validation Loss: 2.08\n",
      "  Validation took: 0:00:02\n",
      "\n",
      "======== Epoch 5 / 5 ========\n",
      "Training...\n",
      "\n",
      "  Average training loss: 1.66\n",
      "  Training epoch took: 0:00:31\n",
      "\n",
      "Running Validation...\n",
      "  Validation Loss: 2.05\n",
      "  Validation took: 0:00:01\n",
      "\n",
      "Training complete!\n",
      "Total training took 0:02:47 (h:mm:ss)\n"
     ]
    }
   ],
   "source": [
    "total_t0 = time.time()\n",
    "\n",
    "training_stats = []\n",
    "\n",
    "model = model.to(device)\n",
    "\n",
    "for epoch_i in range(0, epochs):\n",
    "    # ========================================\n",
    "    #               Training\n",
    "    # ========================================\n",
    "\n",
    "    print(\"\")\n",
    "    print('======== Epoch {:} / {:} ========'.format(epoch_i + 1, epochs))\n",
    "    print('Training...')\n",
    "\n",
    "    t0 = time.time()\n",
    "\n",
    "    total_train_loss = 0\n",
    "\n",
    "    model.train()\n",
    "\n",
    "    for step, batch in enumerate(train_dataloader):\n",
    "        b_input_ids = batch[0].to(device)\n",
    "        b_labels = batch[0].to(device)\n",
    "        b_masks = batch[1].to(device)\n",
    "\n",
    "        model.zero_grad()\n",
    "        outputs = model(  b_input_ids,\n",
    "                          labels=b_labels,\n",
    "                          attention_mask = b_masks,\n",
    "                          token_type_ids=None\n",
    "                        )\n",
    "        loss = outputs[0]\n",
    "\n",
    "        batch_loss = loss.item()\n",
    "        total_train_loss += batch_loss\n",
    "\n",
    "        # Get sample every x batches.\n",
    "        if step % sample_every == 0 and not step == 0:\n",
    "            elapsed = format_time(time.time() - t0)\n",
    "            print('  Batch {:>5,}  of  {:>5,}. Loss: {:>5,}.   Elapsed: {:}.'.format(step, len(train_dataloader), batch_loss, elapsed))\n",
    "            model.eval()\n",
    "            sample_outputs = model.generate(\n",
    "                                    bos_token_id=random.randint(1,30000),\n",
    "                                    do_sample=True,\n",
    "                                    top_k=50,\n",
    "                                    max_length = 200,\n",
    "                                    top_p=0.95,\n",
    "                                    num_return_sequences=1\n",
    "                                )\n",
    "            for i, sample_output in enumerate(sample_outputs):\n",
    "                  print(\"{}: {}\".format(i, tokenizer.decode(sample_output, skip_special_tokens=True)))\n",
    "\n",
    "            model.train()\n",
    "\n",
    "        loss.backward()\n",
    "        optimizer.step()\n",
    "        scheduler.step()\n",
    "\n",
    "    # Calculate the average loss over all of the batches.\n",
    "    avg_train_loss = total_train_loss / len(train_dataloader)\n",
    "\n",
    "    # Measure how long this epoch took.\n",
    "    training_time = format_time(time.time() - t0)\n",
    "\n",
    "    print(\"\")\n",
    "    print(\"  Average training loss: {0:.2f}\".format(avg_train_loss))\n",
    "    print(\"  Training epoch took: {:}\".format(training_time))\n",
    "\n",
    "    # ========================================\n",
    "    #               Validation\n",
    "    # ========================================\n",
    "\n",
    "    print(\"\")\n",
    "    print(\"Running Validation...\")\n",
    "\n",
    "    t0 = time.time()\n",
    "\n",
    "    model.eval()\n",
    "\n",
    "    total_eval_loss = 0\n",
    "    nb_eval_steps = 0\n",
    "\n",
    "    # Evaluate data for one epoch\n",
    "    for batch in validation_dataloader:\n",
    "        b_input_ids = batch[0].to(device)\n",
    "        b_labels = batch[0].to(device)\n",
    "        b_masks = batch[1].to(device)\n",
    "\n",
    "        with torch.no_grad():\n",
    "            outputs  = model( b_input_ids,\n",
    "                              attention_mask = b_masks,\n",
    "                              labels=b_labels)\n",
    "            loss = outputs[0]\n",
    "\n",
    "        batch_loss = loss.item()\n",
    "        total_eval_loss += batch_loss\n",
    "\n",
    "    avg_val_loss = total_eval_loss / len(validation_dataloader)\n",
    "    validation_time = format_time(time.time() - t0)\n",
    "    print(\"  Validation Loss: {0:.2f}\".format(avg_val_loss))\n",
    "    print(\"  Validation took: {:}\".format(validation_time))\n",
    "\n",
    "    # Record all statistics from this epoch.\n",
    "    training_stats.append(\n",
    "        {\n",
    "            'epoch': epoch_i + 1,\n",
    "            'Training Loss': avg_train_loss,\n",
    "            'Valid. Loss': avg_val_loss,\n",
    "            'Training Time': training_time,\n",
    "            'Validation Time': validation_time\n",
    "        }\n",
    "    )\n",
    "\n",
    "print(\"\")\n",
    "print(\"Training complete!\")\n",
    "print(\"Total training took {:} (h:mm:ss)\".format(format_time(time.time()-total_t0)))"
   ]
  },
  {
   "cell_type": "markdown",
   "metadata": {
    "id": "VQTvJ1vRP7u4"
   },
   "source": [
    "Let's view the summary of the training process."
   ]
  },
  {
   "cell_type": "code",
   "execution_count": 19,
   "metadata": {
    "colab": {
     "base_uri": "https://localhost:8080/",
     "height": 237
    },
    "id": "6O_NbXFGMukX",
    "outputId": "2747bd31-3e51-4663-faab-57ee0bf1917e"
   },
   "outputs": [
    {
     "data": {
      "text/html": [
       "\n",
       "  <div id=\"df-bacbed93-089b-4d52-99d4-967b5d8f2d15\" class=\"colab-df-container\">\n",
       "    <div>\n",
       "<style scoped>\n",
       "    .dataframe tbody tr th:only-of-type {\n",
       "        vertical-align: middle;\n",
       "    }\n",
       "\n",
       "    .dataframe tbody tr th {\n",
       "        vertical-align: top;\n",
       "    }\n",
       "\n",
       "    .dataframe thead th {\n",
       "        text-align: right;\n",
       "    }\n",
       "</style>\n",
       "<table border=\"1\" class=\"dataframe\">\n",
       "  <thead>\n",
       "    <tr style=\"text-align: right;\">\n",
       "      <th></th>\n",
       "      <th>Training Loss</th>\n",
       "      <th>Valid. Loss</th>\n",
       "      <th>Training Time</th>\n",
       "      <th>Validation Time</th>\n",
       "    </tr>\n",
       "    <tr>\n",
       "      <th>epoch</th>\n",
       "      <th></th>\n",
       "      <th></th>\n",
       "      <th></th>\n",
       "      <th></th>\n",
       "    </tr>\n",
       "  </thead>\n",
       "  <tbody>\n",
       "    <tr>\n",
       "      <th>1</th>\n",
       "      <td>9.881409</td>\n",
       "      <td>2.787002</td>\n",
       "      <td>0:00:34</td>\n",
       "      <td>0:00:01</td>\n",
       "    </tr>\n",
       "    <tr>\n",
       "      <th>2</th>\n",
       "      <td>2.372820</td>\n",
       "      <td>2.336207</td>\n",
       "      <td>0:00:31</td>\n",
       "      <td>0:00:01</td>\n",
       "    </tr>\n",
       "    <tr>\n",
       "      <th>3</th>\n",
       "      <td>2.001034</td>\n",
       "      <td>2.170490</td>\n",
       "      <td>0:00:31</td>\n",
       "      <td>0:00:01</td>\n",
       "    </tr>\n",
       "    <tr>\n",
       "      <th>4</th>\n",
       "      <td>1.783820</td>\n",
       "      <td>2.078314</td>\n",
       "      <td>0:00:32</td>\n",
       "      <td>0:00:02</td>\n",
       "    </tr>\n",
       "    <tr>\n",
       "      <th>5</th>\n",
       "      <td>1.655084</td>\n",
       "      <td>2.050146</td>\n",
       "      <td>0:00:31</td>\n",
       "      <td>0:00:01</td>\n",
       "    </tr>\n",
       "  </tbody>\n",
       "</table>\n",
       "</div>\n",
       "    <div class=\"colab-df-buttons\">\n",
       "\n",
       "  <div class=\"colab-df-container\">\n",
       "    <button class=\"colab-df-convert\" onclick=\"convertToInteractive('df-bacbed93-089b-4d52-99d4-967b5d8f2d15')\"\n",
       "            title=\"Convert this dataframe to an interactive table.\"\n",
       "            style=\"display:none;\">\n",
       "\n",
       "  <svg xmlns=\"http://www.w3.org/2000/svg\" height=\"24px\" viewBox=\"0 -960 960 960\">\n",
       "    <path d=\"M120-120v-720h720v720H120Zm60-500h600v-160H180v160Zm220 220h160v-160H400v160Zm0 220h160v-160H400v160ZM180-400h160v-160H180v160Zm440 0h160v-160H620v160ZM180-180h160v-160H180v160Zm440 0h160v-160H620v160Z\"/>\n",
       "  </svg>\n",
       "    </button>\n",
       "\n",
       "  <style>\n",
       "    .colab-df-container {\n",
       "      display:flex;\n",
       "      gap: 12px;\n",
       "    }\n",
       "\n",
       "    .colab-df-convert {\n",
       "      background-color: #E8F0FE;\n",
       "      border: none;\n",
       "      border-radius: 50%;\n",
       "      cursor: pointer;\n",
       "      display: none;\n",
       "      fill: #1967D2;\n",
       "      height: 32px;\n",
       "      padding: 0 0 0 0;\n",
       "      width: 32px;\n",
       "    }\n",
       "\n",
       "    .colab-df-convert:hover {\n",
       "      background-color: #E2EBFA;\n",
       "      box-shadow: 0px 1px 2px rgba(60, 64, 67, 0.3), 0px 1px 3px 1px rgba(60, 64, 67, 0.15);\n",
       "      fill: #174EA6;\n",
       "    }\n",
       "\n",
       "    .colab-df-buttons div {\n",
       "      margin-bottom: 4px;\n",
       "    }\n",
       "\n",
       "    [theme=dark] .colab-df-convert {\n",
       "      background-color: #3B4455;\n",
       "      fill: #D2E3FC;\n",
       "    }\n",
       "\n",
       "    [theme=dark] .colab-df-convert:hover {\n",
       "      background-color: #434B5C;\n",
       "      box-shadow: 0px 1px 3px 1px rgba(0, 0, 0, 0.15);\n",
       "      filter: drop-shadow(0px 1px 2px rgba(0, 0, 0, 0.3));\n",
       "      fill: #FFFFFF;\n",
       "    }\n",
       "  </style>\n",
       "\n",
       "    <script>\n",
       "      const buttonEl =\n",
       "        document.querySelector('#df-bacbed93-089b-4d52-99d4-967b5d8f2d15 button.colab-df-convert');\n",
       "      buttonEl.style.display =\n",
       "        google.colab.kernel.accessAllowed ? 'block' : 'none';\n",
       "\n",
       "      async function convertToInteractive(key) {\n",
       "        const element = document.querySelector('#df-bacbed93-089b-4d52-99d4-967b5d8f2d15');\n",
       "        const dataTable =\n",
       "          await google.colab.kernel.invokeFunction('convertToInteractive',\n",
       "                                                    [key], {});\n",
       "        if (!dataTable) return;\n",
       "\n",
       "        const docLinkHtml = 'Like what you see? Visit the ' +\n",
       "          '<a target=\"_blank\" href=https://colab.research.google.com/notebooks/data_table.ipynb>data table notebook</a>'\n",
       "          + ' to learn more about interactive tables.';\n",
       "        element.innerHTML = '';\n",
       "        dataTable['output_type'] = 'display_data';\n",
       "        await google.colab.output.renderOutput(dataTable, element);\n",
       "        const docLink = document.createElement('div');\n",
       "        docLink.innerHTML = docLinkHtml;\n",
       "        element.appendChild(docLink);\n",
       "      }\n",
       "    </script>\n",
       "  </div>\n",
       "\n",
       "\n",
       "<div id=\"df-ca1c5496-fe43-4191-80d2-4b4240dafec3\">\n",
       "  <button class=\"colab-df-quickchart\" onclick=\"quickchart('df-ca1c5496-fe43-4191-80d2-4b4240dafec3')\"\n",
       "            title=\"Suggest charts\"\n",
       "            style=\"display:none;\">\n",
       "\n",
       "<svg xmlns=\"http://www.w3.org/2000/svg\" height=\"24px\"viewBox=\"0 0 24 24\"\n",
       "     width=\"24px\">\n",
       "    <g>\n",
       "        <path d=\"M19 3H5c-1.1 0-2 .9-2 2v14c0 1.1.9 2 2 2h14c1.1 0 2-.9 2-2V5c0-1.1-.9-2-2-2zM9 17H7v-7h2v7zm4 0h-2V7h2v10zm4 0h-2v-4h2v4z\"/>\n",
       "    </g>\n",
       "</svg>\n",
       "  </button>\n",
       "\n",
       "<style>\n",
       "  .colab-df-quickchart {\n",
       "      --bg-color: #E8F0FE;\n",
       "      --fill-color: #1967D2;\n",
       "      --hover-bg-color: #E2EBFA;\n",
       "      --hover-fill-color: #174EA6;\n",
       "      --disabled-fill-color: #AAA;\n",
       "      --disabled-bg-color: #DDD;\n",
       "  }\n",
       "\n",
       "  [theme=dark] .colab-df-quickchart {\n",
       "      --bg-color: #3B4455;\n",
       "      --fill-color: #D2E3FC;\n",
       "      --hover-bg-color: #434B5C;\n",
       "      --hover-fill-color: #FFFFFF;\n",
       "      --disabled-bg-color: #3B4455;\n",
       "      --disabled-fill-color: #666;\n",
       "  }\n",
       "\n",
       "  .colab-df-quickchart {\n",
       "    background-color: var(--bg-color);\n",
       "    border: none;\n",
       "    border-radius: 50%;\n",
       "    cursor: pointer;\n",
       "    display: none;\n",
       "    fill: var(--fill-color);\n",
       "    height: 32px;\n",
       "    padding: 0;\n",
       "    width: 32px;\n",
       "  }\n",
       "\n",
       "  .colab-df-quickchart:hover {\n",
       "    background-color: var(--hover-bg-color);\n",
       "    box-shadow: 0 1px 2px rgba(60, 64, 67, 0.3), 0 1px 3px 1px rgba(60, 64, 67, 0.15);\n",
       "    fill: var(--button-hover-fill-color);\n",
       "  }\n",
       "\n",
       "  .colab-df-quickchart-complete:disabled,\n",
       "  .colab-df-quickchart-complete:disabled:hover {\n",
       "    background-color: var(--disabled-bg-color);\n",
       "    fill: var(--disabled-fill-color);\n",
       "    box-shadow: none;\n",
       "  }\n",
       "\n",
       "  .colab-df-spinner {\n",
       "    border: 2px solid var(--fill-color);\n",
       "    border-color: transparent;\n",
       "    border-bottom-color: var(--fill-color);\n",
       "    animation:\n",
       "      spin 1s steps(1) infinite;\n",
       "  }\n",
       "\n",
       "  @keyframes spin {\n",
       "    0% {\n",
       "      border-color: transparent;\n",
       "      border-bottom-color: var(--fill-color);\n",
       "      border-left-color: var(--fill-color);\n",
       "    }\n",
       "    20% {\n",
       "      border-color: transparent;\n",
       "      border-left-color: var(--fill-color);\n",
       "      border-top-color: var(--fill-color);\n",
       "    }\n",
       "    30% {\n",
       "      border-color: transparent;\n",
       "      border-left-color: var(--fill-color);\n",
       "      border-top-color: var(--fill-color);\n",
       "      border-right-color: var(--fill-color);\n",
       "    }\n",
       "    40% {\n",
       "      border-color: transparent;\n",
       "      border-right-color: var(--fill-color);\n",
       "      border-top-color: var(--fill-color);\n",
       "    }\n",
       "    60% {\n",
       "      border-color: transparent;\n",
       "      border-right-color: var(--fill-color);\n",
       "    }\n",
       "    80% {\n",
       "      border-color: transparent;\n",
       "      border-right-color: var(--fill-color);\n",
       "      border-bottom-color: var(--fill-color);\n",
       "    }\n",
       "    90% {\n",
       "      border-color: transparent;\n",
       "      border-bottom-color: var(--fill-color);\n",
       "    }\n",
       "  }\n",
       "</style>\n",
       "\n",
       "  <script>\n",
       "    async function quickchart(key) {\n",
       "      const quickchartButtonEl =\n",
       "        document.querySelector('#' + key + ' button');\n",
       "      quickchartButtonEl.disabled = true;  // To prevent multiple clicks.\n",
       "      quickchartButtonEl.classList.add('colab-df-spinner');\n",
       "      try {\n",
       "        const charts = await google.colab.kernel.invokeFunction(\n",
       "            'suggestCharts', [key], {});\n",
       "      } catch (error) {\n",
       "        console.error('Error during call to suggestCharts:', error);\n",
       "      }\n",
       "      quickchartButtonEl.classList.remove('colab-df-spinner');\n",
       "      quickchartButtonEl.classList.add('colab-df-quickchart-complete');\n",
       "    }\n",
       "    (() => {\n",
       "      let quickchartButtonEl =\n",
       "        document.querySelector('#df-ca1c5496-fe43-4191-80d2-4b4240dafec3 button');\n",
       "      quickchartButtonEl.style.display =\n",
       "        google.colab.kernel.accessAllowed ? 'block' : 'none';\n",
       "    })();\n",
       "  </script>\n",
       "</div>\n",
       "\n",
       "  <div id=\"id_0bd6e944-771b-48d6-8901-69cc716cd997\">\n",
       "    <style>\n",
       "      .colab-df-generate {\n",
       "        background-color: #E8F0FE;\n",
       "        border: none;\n",
       "        border-radius: 50%;\n",
       "        cursor: pointer;\n",
       "        display: none;\n",
       "        fill: #1967D2;\n",
       "        height: 32px;\n",
       "        padding: 0 0 0 0;\n",
       "        width: 32px;\n",
       "      }\n",
       "\n",
       "      .colab-df-generate:hover {\n",
       "        background-color: #E2EBFA;\n",
       "        box-shadow: 0px 1px 2px rgba(60, 64, 67, 0.3), 0px 1px 3px 1px rgba(60, 64, 67, 0.15);\n",
       "        fill: #174EA6;\n",
       "      }\n",
       "\n",
       "      [theme=dark] .colab-df-generate {\n",
       "        background-color: #3B4455;\n",
       "        fill: #D2E3FC;\n",
       "      }\n",
       "\n",
       "      [theme=dark] .colab-df-generate:hover {\n",
       "        background-color: #434B5C;\n",
       "        box-shadow: 0px 1px 3px 1px rgba(0, 0, 0, 0.15);\n",
       "        filter: drop-shadow(0px 1px 2px rgba(0, 0, 0, 0.3));\n",
       "        fill: #FFFFFF;\n",
       "      }\n",
       "    </style>\n",
       "    <button class=\"colab-df-generate\" onclick=\"generateWithVariable('df_stats')\"\n",
       "            title=\"Generate code using this dataframe.\"\n",
       "            style=\"display:none;\">\n",
       "\n",
       "  <svg xmlns=\"http://www.w3.org/2000/svg\" height=\"24px\"viewBox=\"0 0 24 24\"\n",
       "       width=\"24px\">\n",
       "    <path d=\"M7,19H8.4L18.45,9,17,7.55,7,17.6ZM5,21V16.75L18.45,3.32a2,2,0,0,1,2.83,0l1.4,1.43a1.91,1.91,0,0,1,.58,1.4,1.91,1.91,0,0,1-.58,1.4L9.25,21ZM18.45,9,17,7.55Zm-12,3A5.31,5.31,0,0,0,4.9,8.1,5.31,5.31,0,0,0,1,6.5,5.31,5.31,0,0,0,4.9,4.9,5.31,5.31,0,0,0,6.5,1,5.31,5.31,0,0,0,8.1,4.9,5.31,5.31,0,0,0,12,6.5,5.46,5.46,0,0,0,6.5,12Z\"/>\n",
       "  </svg>\n",
       "    </button>\n",
       "    <script>\n",
       "      (() => {\n",
       "      const buttonEl =\n",
       "        document.querySelector('#id_0bd6e944-771b-48d6-8901-69cc716cd997 button.colab-df-generate');\n",
       "      buttonEl.style.display =\n",
       "        google.colab.kernel.accessAllowed ? 'block' : 'none';\n",
       "\n",
       "      buttonEl.onclick = () => {\n",
       "        google.colab.notebook.generateWithVariable('df_stats');\n",
       "      }\n",
       "      })();\n",
       "    </script>\n",
       "  </div>\n",
       "\n",
       "    </div>\n",
       "  </div>\n"
      ],
      "text/plain": [
       "       Training Loss  Valid. Loss Training Time Validation Time\n",
       "epoch                                                          \n",
       "1           9.881409     2.787002       0:00:34         0:00:01\n",
       "2           2.372820     2.336207       0:00:31         0:00:01\n",
       "3           2.001034     2.170490       0:00:31         0:00:01\n",
       "4           1.783820     2.078314       0:00:32         0:00:02\n",
       "5           1.655084     2.050146       0:00:31         0:00:01"
      ]
     },
     "execution_count": 19,
     "metadata": {},
     "output_type": "execute_result"
    }
   ],
   "source": [
    "# Create a DataFrame from our training statistics.\n",
    "df_stats = pd.DataFrame(data=training_stats)\n",
    "df_stats = df_stats.set_index('epoch')\n",
    "df_stats"
   ]
  },
  {
   "cell_type": "code",
   "execution_count": 20,
   "metadata": {
    "colab": {
     "base_uri": "https://localhost:8080/",
     "height": 592
    },
    "id": "68xreA9JAmG5",
    "outputId": "beeb95be-63a7-45cc-ea05-b38fc4fcb7f9"
   },
   "outputs": [
    {
     "data": {
      "image/png": "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\n",
      "text/plain": [
       "<Figure size 1200x600 with 1 Axes>"
      ]
     },
     "metadata": {},
     "output_type": "display_data"
    }
   ],
   "source": [
    "# Use plot styling from seaborn.\n",
    "sns.set(style='darkgrid')\n",
    "\n",
    "# Increase the plot size and font size.\n",
    "sns.set(font_scale=1.5)\n",
    "plt.rcParams[\"figure.figsize\"] = (12,6)\n",
    "\n",
    "# Plot the learning curve.\n",
    "plt.plot(df_stats['Training Loss'], 'b-o', label=\"Training\")\n",
    "plt.plot(df_stats['Valid. Loss'], 'g-o', label=\"Validation\")\n",
    "\n",
    "# Label the plot.\n",
    "plt.title(\"Training & Validation Loss\")\n",
    "plt.xlabel(\"Epoch\")\n",
    "plt.ylabel(\"Loss\")\n",
    "plt.legend()\n",
    "plt.xticks([1, 2, 3, 4])\n",
    "\n",
    "plt.show()"
   ]
  },
  {
   "cell_type": "markdown",
   "metadata": {
    "id": "GfjYoa6WmkN6"
   },
   "source": [
    "# Display Model Info"
   ]
  },
  {
   "cell_type": "code",
   "execution_count": 21,
   "metadata": {
    "colab": {
     "base_uri": "https://localhost:8080/"
    },
    "id": "8PIiVlDYCtSq",
    "outputId": "be2f9899-0015-4235-832c-cf9364a12ff2"
   },
   "outputs": [
    {
     "name": "stdout",
     "output_type": "stream",
     "text": [
      "The GPT-2 model has 148 different named parameters.\n",
      "\n",
      "==== Embedding Layer ====\n",
      "\n",
      "transformer.wte.weight                                  (50259, 768)\n",
      "transformer.wpe.weight                                   (1024, 768)\n",
      "\n",
      "==== First Transformer ====\n",
      "\n",
      "transformer.h.0.ln_1.weight                                   (768,)\n",
      "transformer.h.0.ln_1.bias                                     (768,)\n",
      "transformer.h.0.attn.c_attn.weight                       (768, 2304)\n",
      "transformer.h.0.attn.c_attn.bias                             (2304,)\n",
      "transformer.h.0.attn.c_proj.weight                        (768, 768)\n",
      "transformer.h.0.attn.c_proj.bias                              (768,)\n",
      "transformer.h.0.ln_2.weight                                   (768,)\n",
      "transformer.h.0.ln_2.bias                                     (768,)\n",
      "transformer.h.0.mlp.c_fc.weight                          (768, 3072)\n",
      "transformer.h.0.mlp.c_fc.bias                                (3072,)\n",
      "transformer.h.0.mlp.c_proj.weight                        (3072, 768)\n",
      "transformer.h.0.mlp.c_proj.bias                               (768,)\n",
      "\n",
      "==== Output Layer ====\n",
      "\n",
      "transformer.ln_f.weight                                       (768,)\n",
      "transformer.ln_f.bias                                         (768,)\n"
     ]
    }
   ],
   "source": [
    "# Get all of the model's parameters as a list of tuples.\n",
    "params = list(model.named_parameters())\n",
    "\n",
    "print('The GPT-2 model has {:} different named parameters.\\n'.format(len(params)))\n",
    "print('==== Embedding Layer ====\\n')\n",
    "\n",
    "for p in params[0:2]:\n",
    "    print(\"{:<55} {:>12}\".format(p[0], str(tuple(p[1].size()))))\n",
    "\n",
    "print('\\n==== First Transformer ====\\n')\n",
    "\n",
    "for p in params[2:14]:\n",
    "    print(\"{:<55} {:>12}\".format(p[0], str(tuple(p[1].size()))))\n",
    "\n",
    "print('\\n==== Output Layer ====\\n')\n",
    "\n",
    "for p in params[-2:]:\n",
    "    print(\"{:<55} {:>12}\".format(p[0], str(tuple(p[1].size()))))"
   ]
  },
  {
   "cell_type": "markdown",
   "metadata": {
    "id": "q2079Qyn8Mt8"
   },
   "source": [
    "# Saving & Loading Fine-Tuned Model\n"
   ]
  },
  {
   "cell_type": "code",
   "execution_count": 22,
   "metadata": {
    "colab": {
     "base_uri": "https://localhost:8080/"
    },
    "id": "6ulTWaOr8QNY",
    "outputId": "4b1b3033-bb4b-4879-bd30-f0d074dc9b04"
   },
   "outputs": [
    {
     "name": "stdout",
     "output_type": "stream",
     "text": [
      "Saving model to ./model_save/\n"
     ]
    },
    {
     "data": {
      "text/plain": [
       "('./model_save/tokenizer_config.json',\n",
       " './model_save/special_tokens_map.json',\n",
       " './model_save/vocab.json',\n",
       " './model_save/merges.txt',\n",
       " './model_save/added_tokens.json')"
      ]
     },
     "execution_count": 22,
     "metadata": {},
     "output_type": "execute_result"
    }
   ],
   "source": [
    "# Saving best-practices: if you use defaults names for the model, you can reload it using from_pretrained()\n",
    "\n",
    "output_dir = './model_save/'\n",
    "\n",
    "# Create output directory if needed\n",
    "if not os.path.exists(output_dir):\n",
    "    os.makedirs(output_dir)\n",
    "\n",
    "print(\"Saving model to %s\" % output_dir)\n",
    "\n",
    "# Save a trained model, configuration and tokenizer using `save_pretrained()`.\n",
    "# They can then be reloaded using `from_pretrained()`\n",
    "model_to_save = model.module if hasattr(model, 'module') else model  # Take care of distributed/parallel training\n",
    "model_to_save.save_pretrained(output_dir)\n",
    "tokenizer.save_pretrained(output_dir)\n",
    "\n",
    "# Good practice: save your training arguments together with the trained model\n",
    "# torch.save(args, os.path.join(output_dir, 'training_args.bin'))"
   ]
  },
  {
   "cell_type": "code",
   "execution_count": 23,
   "metadata": {
    "colab": {
     "base_uri": "https://localhost:8080/"
    },
    "id": "X7oYyMyeQtAa",
    "outputId": "200fc480-7e9c-499c-c179-5334b248cdaa"
   },
   "outputs": [
    {
     "name": "stdout",
     "output_type": "stream",
     "text": [
      "  adding: model_save/ (stored 0%)\n",
      "  adding: model_save/generation_config.json (deflated 24%)\n",
      "  adding: model_save/merges.txt (deflated 53%)\n",
      "  adding: model_save/tokenizer_config.json (deflated 70%)\n",
      "  adding: model_save/special_tokens_map.json (deflated 78%)\n",
      "  adding: model_save/vocab.json (deflated 68%)\n",
      "  adding: model_save/config.json (deflated 51%)\n",
      "  adding: model_save/model.safetensors (deflated 7%)\n",
      "  adding: model_save/added_tokens.json (deflated 20%)\n"
     ]
    }
   ],
   "source": [
    "!zip -r model_save.zip model_save"
   ]
  },
  {
   "cell_type": "markdown",
   "metadata": {
    "id": "ZLf6rbRglYhQ"
   },
   "source": [
    "# Generate Text"
   ]
  },
  {
   "cell_type": "code",
   "execution_count": 24,
   "metadata": {
    "colab": {
     "base_uri": "https://localhost:8080/"
    },
    "id": "v4XhewaV93-_",
    "outputId": "4bde7d9c-fd05-4898-bb9d-badce4286400"
   },
   "outputs": [
    {
     "name": "stderr",
     "output_type": "stream",
     "text": [
      "The attention mask and the pad token id were not set. As a consequence, you may observe unexpected behavior. Please pass your input's `attention_mask` to obtain reliable results.\n",
      "Setting `pad_token_id` to `eos_token_id`:50256 for open-end generation.\n"
     ]
    },
    {
     "name": "stdout",
     "output_type": "stream",
     "text": [
      "tensor([[50257]], device='cuda:0')\n",
      "0: A federal judge in Baltimore has ruled that the Baltimore Sun violated its First Amendment rights when it printed over a newspaper full of racially charged and inflammatory content in an attempt to conceal the fact that the Sun was violating its own publication policy. The decision is a blow to journalism that has taken hold in the city since the summer, when the newspaper announced plans to post racially charged content online to avoid further fraying relations between its editorial staff and its readers. “There’s no justification for this “cure” in light of what’s in the newspaper’s print edition,\" Judge Robert Ferguson said. The opinion was issued by Justice Ruth Bader Ginsburg.\n",
      "In a statement issued shortly after his ruling, Ferguson explained the new ruling.\n",
      "\"The Sun’s publication policy permits them to print racist content that is overtly offensive on a daily basis, regardless of whether the content has the influence of political opponents, local residents or the media. These are things “that’re “outraged” readers and readers of the Sun — people that are worried about the impact of hate, for example, or just folks who care about what’s important and what’s supposed to be in our newspaper. This article is not, however, meant to convey a racist message, or to point out that it’s part of the culture of the city; rather, it is intended for readers, readers, and readers of the newspaper. Thus, it was permitted to print a racist content that was plainly offensive upon its face, regardless of the fact that any such content could be considered “offensive” by the local newspaper.\"\n",
      "That was what happened when the Sun published an op-ed by an anti-Semitic writer named Antony Gwynne Doolittle that featured her taking a trip to the salon at Abbey in order to read a Holocaust survivor’s diary. Though the editorial did contain racist content — such as the “conjecture to “collective punishment” — the Daily Mail published similar content. The Daily Mail did not post a single, unredeemed negative screed or offensive language, and even did not even mention that the content of the column could be construed as “racist.” The author was Mark Berman, of the Holocaust survivor’s website and a noted Holocaust denier. The Sun’s decision also comes as a heavy blow to any efforts by public figures and media organizations to maintain racial separation following the 2016 election of Donald Trump as president, but also shows that the Post-PC era, when “anti-racism and anti-statism have no place in journalism,” will continue to persist.\n",
      "According to a report from The Advocate, Politico published similar guidance from the Justice Department in its 2017 review of “Unlawful Preliminary Review” and also warned that “reopening our democracy” can be deadly. The Times did not post a single, unredeemed negative screed, but did post a whitewashing piece that featured racist stereotypes and did not even mention the Holocaust. The report was part of a larger effort by the Justice Department to muzzle political opponents of Trump’s agenda, including anti-Semitic writer Michelle Malkin and her group, the Anti-Defamation League.\n",
      "The New York Times and the Washington Post published a similar, unpublished report on the issue in 2017. The paper also published a “Clear Skies” column that noted that “the law can be applied to any section of our city’s public transportation system, whether those are private or public. “In such circumstances, a person may be stopped by a traffic stop, a patrol, or police car, even when the stop is made in response to a complaint filed by the citizenry.\n",
      "Whether the city council passes such a law will depend on the interpretation of a city council vote, and in certain circumstances — such as when driving through a park or a park-and-ride zone in a community — it could result in criminal charges and criminal charges being filed.\n",
      "In light of this editorial, Judge Ferguson’s ruling threatens to change how we approach race, whether it be a city or individual. “What the Times is not telling the public is that, with Trump’s recent racist comments, they’re now ignoring or minimizing his racism and instead concentrating on “reopening our democracy for all Americans,” according to a statement issued by a Justice Department spokeswoman.\n",
      "“I would hope, in the worst case, the Times would approach this decision as an acknowledgment that the city’s public safety and wellbeing can be “fully protected by doing this work,\" Ferguson told me at yesterday’s press briefing.\n",
      "Judge Ferguson was joined by four other judges in a bench of nine men of\n",
      "\n",
      "\n",
      "1: . This is how Donald Trump’s campaign pulled out of the Paris Agreement — a brutal, brutal pact signed on January 20 to tackle climate change — and he lied to reporters.\n",
      "For years now, the Republican presidential front-runner has stood by and defended the Paris Accord, telling reporters that it was an \"executive agreement\" that “could’t be altered by Congress.” Meanwhile, he’d admitted that he has “never seen a deal between the federal government and a country that was less committed to fighting global warming than Trump’s.\"\n",
      "But there’s one glaring, fundamental truth that’s become increasingly clear in the recent past weeks: that if there’s any doubt that Trump is “entitled” to a “final deal with the Paris Agreement, it’s his party—not the White House,” one of the largest donors to Trump’s campaign.\n",
      "That’s why he’s pushing for the continuation of the United Nations Conference on Climate Change, the only international body on climate change. And the danger is that, given Trump’s past propensity for “fake news and ‘statistic-shaming, this fight is hopelessly lost.”\n",
      "“If Trump really cares about keeping this agreement from happening, then he will have to abandon his own party, or face a challenge from establishment GOP leaders who will only take him out of the race. It’s tragic that Trump’s presidency was framed by Team Trump, a far cry from the values and common sense he held at the State Department.\n",
      "That’s why he’d be so keen on scrapping the Paris Agreement and sticking to the principles of the United Nations. Even in the midst of the Trump era, he has been willing to risk the United States’s international credibility for other countries. Last year, he tried, only to be scorned by Russia for what he called “birtherism” and other \"political correctness\" scolding.\n",
      "But Donald Trump is not the only Republican who thinks the 2020 election might be a sham. Last month, conservative commentator Mark Meadows offered a bizarre, if somewhat surprising, parallel to the GOP’s 2017 primary fight with Rep. Paul Gosar.\n",
      "Let’s talk about our differences. First, it’s important not to exaggerate the magnitude of our differences; in fact, I have a hard time” telling you how many Democrats and liberals I’m talking about here who think the United States could be better off without our climate policies,” and I’m guessing we would all agree with that point. Second, if we’re talking about our differences as a whole, we need to stop pretending we are somehow more comparable than others. As an aside, this is a tough sell, because we do need to make sure people realize that we have vastly different views of climate change.\n",
      "But there’s another side benefit to having more common sense than Trump and me. If you’re a Republican, you might want to reconsider your position, but you’re going to get it because there’s a lot of work left to do.\n",
      "First, there are arguments for and against the Paris Agreement. Even John Bolton, the former Trump administration official, called the proposal to limit emissions from coal-fired power plants a “hoax” as if it were a sustainable path to global warming. And I agree with that. That’s not an outrageous exaggeration; coal-fired power plants that don’t produce much carbon dioxide make up a mere fraction of the carbon emissions that go back into the atmosphere.\n",
      "Second, the Paris Agreement would likely hurt coal-fired power companies because the Paris Agreement requires that countries abandon emissions-cutting rules, which may or may not have been intended to reduce CO2 emissions. But the Paris Agreement also calls for the construction of a ‘greenhouse gas reduction scheme” — even if it also means converting coal plants in developing countries to non-polluting power — which Trump will happily support. That’s probably because the Paris Agreement would only affect companies that invest in renewable energy, such as wind and solar, so it’s not much of a shock that Trump is going to use Trump-like rhetoric and campaign contributions to try to persuade the public to support coal-fired power.\n",
      "It’s worth emphasizing, however, that the Paris Agreement also includes protections against the U.S. export and import tariffs on coal plants and the use of steel as a material for high-quality steel composite.\n",
      "Even so, the Trump administration wants to roll back regulations on steel production, which would harm a lot of American manufacturing, and is now negotiating to weaken or eliminate\n",
      "\n",
      "\n",
      "2: Vinegar disease caused by the Varicella virus (varicella)\n",
      "Mycorrhizal (including chronic fatigue syndrome) also affects women\n",
      "Vinegar is caused by the Varicella coronavirus (vaxxed coronavirus) but is less common than cervical cancer. A small proportion of sexually active women (about 0.5% of the population) get it. Women who get cervical cancer also get pneumonia, diarrheal disease, heart arrhythmias, low back pain, diabetes, and anal and anal infections. Varicella can spread directly to your penis, and the HPV vaccine prevents cervical cancer. Varicella is a rare disease caused by the HPV vaccine and is less common than cervical cancer.\n",
      "The Varicella coronavirus is generally in the United States and may be imported to other parts of the world. If you live in a country where most of the population is infected with this virus, you may be at increased risk of contracting the disease. Many people acquire the virus through the first trimester of pregnancy, while others acquire it through an infected person who has had vaginal lesions. time frame for transmission of the Varicella virus is generally between 6 and points after the first trimester of pregnancy, depending on the timing. When it does reach your clinic, cervical cancer can be treated successfully. Most procedures are safe if they do not cause significant side effects, and procedures are sometimes painful.\n",
      "A woman traveling with her family after a Varicella infection is generally under the care of an infectious-disease specialist. time frame for transmission of Varicella is typically between 6 and 12 weeks after the last trimester of pregnancy. Your health care professional will determine your coverage for the virus, including any needed care, tests, vaccines and treatment. Women must take a Pap smear before they get the virus and have vaginal swab or vaginal swab in the vagina. If your Pap smear shows any abnormalities during treatment, contact your healthcare professional. Your health care professional will evaluate your risk of infection and time frame for transmission. The HPV vaccine prevents cervical cancer. Your cervical cancer diagnosis and testing may take up to 6 weeks after your first trimester of pregnancy. Your risk of developing Pap smears is based on age at first trimester vaginal shedding. If you have vaginal warts or lesions or have advanced stage cervical cancer, your Pap smear could be positive for the virus. Your Pap smears may be positive for up to 2 months after your last trimester vaginal shedding or a minimum of 3 years after you become infected with the virus. Your risk is considered life-threatening if your rash develops after the initial 12 weeks.\n",
      "Get the cervical cancer time frame time frame\n",
      "Get the National Index for cervical cancer\n",
      "Find out more about how we treat cervical cancer\n",
      "Find out about how we treat cervical cancer\n",
      "Find out more about how we treat cervical cancer\n",
      "Get updates on the latest cervical cancer news and treatments from The Washington Post\n",
      "More about cervical cancer\n",
      "Find out about cervical cancer\n",
      "More about the cervical cancer community\n",
      "Get updates on the latest cervical cancer news and treatments from The Washington Post\n",
      "Get updates on cervical cancer related stories\n",
      "Want to get updates from The Washington Post delivered straight to your inbox? Sign up for POLITICO Daily Newsletters and alerts, delivered weekday mornings.\n",
      "On Wednesday, Health & Human Services Secretary Kathleen Sebelius introduced the U.S. Advisory Council on Lifestyle and Health for HPV, which was established by Congress to address the pandemic. (The CDC)\n",
      "Secretary Sebelius introduced the U.S. Advisory Council on Lifestyle and Health (ACLH): The United States' largest and most authoritative anti-vaxxer agency.\n",
      "On Tuesday, the European Union introduced its own version of the HPV vaccine, which is the most popular sexually active drug in Europe and the fourth-most frequently used worldwide. (In addition, it was developed specifically in Asia.) The European Union implemented guidelines for HPV-positive cervical cancer patients, which were published last year. They were aimed at improving access to care for women with cervical cancer, for those with pre-cancers or those who are at risk from early stage cervical lesions or bacterial infections, and for pregnant women and their partners.\n",
      "The U.N.'s National Institute for Health and Care Policy released a report on the HPV vaccination in late May, which was part of a larger review of current cervical cancer research. It notes that the U.S. recommended a one-year mandatory waiting period for testing for cervical cancer. The U.N. Institute for Health and Care Policy also recommends against pre-pregnancy screening for cervical cancer, which is generally painful.\n",
      "The U.S. Centers for Disease Control and Prevention (CDC), which reports to Congress every year in response to the HPV vaccine, published a report a few months ago. (\n",
      "\n",
      "\n",
      "3: HuffPost is part of Verizon Media. We and our partners will store and/or access information on your device through the use of cookies and similar technologies, to display personalised ads and content, for ad and content measurement, audience insights and product development.\n",
      "Your personal data that may be used\n",
      "Information about your device and internet connection, including your IP address\n",
      "Browsing and search activity while using Verizon Media websites and apps\n",
      "Precise location\n",
      "Find out more about how we use your information in our Privacy Policy and Cookie Policy.\n",
      "To enable Verizon Media and our partners to process your personal data select 'I agree', or select 'Manage settings' for more information and to manage your choices. You can change your choices at any time by visiting Your Privacy Controls.\n",
      "\n",
      "\n",
      "4: It’s a good thing that we are living in a time where we can’t have discussions about what we should do in a time of crisis. We’ll hear from the president on Monday and he’ll say things that will get very different from day one.\n",
      "\n",
      "\n"
     ]
    }
   ],
   "source": [
    "model.eval()\n",
    "\n",
    "prompt = \"<|startoftext|>\"\n",
    "\n",
    "generated = torch.tensor(tokenizer.encode(prompt)).unsqueeze(0)\n",
    "generated = generated.to(device)\n",
    "\n",
    "print(generated)\n",
    "\n",
    "sample_outputs = model.generate(\n",
    "  generated,\n",
    "  do_sample=True,\n",
    "  top_k=50,\n",
    "  max_length = 1000,\n",
    "  top_p=0.95,\n",
    "  num_return_sequences=5\n",
    ")\n",
    "\n",
    "for i, sample_output in enumerate(sample_outputs):\n",
    "  print(\"{}: {}\\n\\n\".format(i, tokenizer.decode(sample_output, skip_special_tokens=True)))"
   ]
  }
 ],
 "metadata": {
  "accelerator": "GPU",
  "colab": {
   "gpuType": "V100",
   "provenance": []
  },
  "kernelspec": {
   "display_name": "Python 3 (ipykernel)",
   "language": "python",
   "name": "python3"
  },
  "language_info": {
   "codemirror_mode": {
    "name": "ipython",
    "version": 3
   },
   "file_extension": ".py",
   "mimetype": "text/x-python",
   "name": "python",
   "nbconvert_exporter": "python",
   "pygments_lexer": "ipython3",
   "version": "3.9.12"
  }
 },
 "nbformat": 4,
 "nbformat_minor": 1
=======
      "cell_type": "code",
      "execution_count": 20,
      "metadata": {
        "colab": {
          "base_uri": "https://localhost:8080/"
        },
        "id": "JCCeyhuDHdOu",
        "outputId": "6ecd13e3-736b-44ff-f0fd-8c618e48ee73"
      },
      "outputs": [
        {
          "name": "stderr",
          "output_type": "stream",
          "text": [
            "[nltk_data] Downloading package punkt to /Users/olegbezr/nltk_data...\n",
            "[nltk_data]   Package punkt is already up-to-date!\n"
          ]
        },
        {
          "data": {
            "text/plain": [
              "True"
            ]
          },
          "execution_count": 20,
          "metadata": {},
          "output_type": "execute_result"
        }
      ],
      "source": [
        "import os\n",
        "import time\n",
        "import datetime\n",
        "\n",
        "import pandas as pd\n",
        "import seaborn as sns\n",
        "import numpy as np\n",
        "import random\n",
        "\n",
        "import matplotlib.pyplot as plt\n",
        "\n",
        "import torch\n",
        "from torch.utils.data import Dataset, DataLoader, random_split, RandomSampler, SequentialSampler\n",
        "torch.manual_seed(42)\n",
        "\n",
        "from transformers import GPT2LMHeadModel,  GPT2Tokenizer, GPT2Config, GPT2LMHeadModel\n",
        "from transformers import AdamW, get_linear_schedule_with_warmup\n",
        "\n",
        "import nltk\n",
        "nltk.download('punkt')"
      ]
    },
    {
      "cell_type": "markdown",
      "metadata": {
        "id": "ZfdCML6Parvv"
      },
      "source": [
        "# Create Training Set\n",
        "\n",
        "The data used to finetune the language model is a set of around 1000 DJ biographies, with the aim of generating them in the same general format and style.\n",
        "\n",
        "This data isn't public so if you want to use this script, you'll have to source your own training set."
      ]
    },
    {
      "cell_type": "code",
      "execution_count": 21,
      "metadata": {
        "colab": {
          "base_uri": "https://localhost:8080/"
        },
        "id": "ya3zsH0r-3JK",
        "outputId": "c225d698-6425-47d5-8f8f-8386dc38843f"
      },
      "outputs": [
        {
          "name": "stdout",
          "output_type": "stream",
          "text": [
            "1576\n",
            "472\n"
          ]
        }
      ],
      "source": [
        "df = pd.read_csv(\"../data/final_labels_MBIC.csv\", sep=';')\n",
        "df.dropna(inplace=True)\n",
        "\n",
        "left_data = df[(df['type'] == 'left') & (df['label_bias'] == 'Biased')]['article']\n",
        "print(len(df))\n",
        "print(len(left_data))"
      ]
    },
    {
      "cell_type": "code",
      "execution_count": 22,
      "metadata": {
        "colab": {
          "base_uri": "https://localhost:8080/",
          "height": 638
        },
        "id": "cKsH2sU0OCQA",
        "outputId": "c38fc2eb-fc94-45cd-a8eb-5fa5ad85de94"
      },
      "outputs": [
        {
          "data": {
            "text/plain": [
              "933.4830508474577"
            ]
          },
          "execution_count": 22,
          "metadata": {},
          "output_type": "execute_result"
        },
        {
          "data": {
            "image/png": "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",
            "text/plain": [
              "<Figure size 500x500 with 1 Axes>"
            ]
          },
          "metadata": {},
          "output_type": "display_data"
        }
      ],
      "source": [
        "article_lengths = []\n",
        "\n",
        "for article in left_data:\n",
        "    # get rough token count distribution\n",
        "    tokens = nltk.word_tokenize(article)\n",
        "    article_lengths.append(len(tokens))\n",
        "\n",
        "article_lengths = np.array(article_lengths)\n",
        "sns.displot(article_lengths)\n",
        "\n",
        "np.average(article_lengths)"
      ]
    },
    {
      "cell_type": "markdown",
      "metadata": {
        "id": "ex5O1eV-Pfct"
      },
      "source": [
        "# PyTorch Datasets & Dataloaders\n"
      ]
    },
    {
      "cell_type": "code",
      "execution_count": 23,
      "metadata": {
        "id": "U_XJVIetKN-h"
      },
      "outputs": [],
      "source": [
        "tokenizer = GPT2Tokenizer.from_pretrained('gpt2', bos_token='<|startoftext|>', eos_token='<|endoftext|>', pad_token='<|pad|>') #gpt2-medium\n",
        "\n",
        "class GPT2Dataset(Dataset):\n",
        "  def __init__(self, txt_list, tokenizer, gpt2_type=\"gpt2\", max_length=768):\n",
        "    self.tokenizer = tokenizer\n",
        "    self.input_ids = []\n",
        "    self.attn_masks = []\n",
        "\n",
        "    for txt in txt_list:\n",
        "      encodings_dict = tokenizer('<|startoftext|>'+ txt + '<|endoftext|>', truncation=True, max_length=max_length, padding=\"max_length\")\n",
        "      self.input_ids.append(torch.tensor(encodings_dict['input_ids']))\n",
        "      self.attn_masks.append(torch.tensor(encodings_dict['attention_mask']))\n",
        "\n",
        "  def __len__(self):\n",
        "    return len(self.input_ids)\n",
        "\n",
        "  def __getitem__(self, idx):\n",
        "    return self.input_ids[idx], self.attn_masks[idx]"
      ]
    },
    {
      "cell_type": "code",
      "execution_count": 24,
      "metadata": {
        "colab": {
          "base_uri": "https://localhost:8080/"
        },
        "id": "Xza_O1_rD7yh",
        "outputId": "10eabf0e-6c21-4245-b009-78ac5d812816"
      },
      "outputs": [],
      "source": [
        "dataset = GPT2Dataset(left_data, tokenizer, max_length=768)\n",
        "\n",
        "# Split into training and validation sets\n",
        "train_size = int(0.9 * len(dataset))\n",
        "val_size = len(dataset) - train_size\n",
        "\n",
        "train_dataset, val_dataset = random_split(dataset, [train_size, val_size])"
      ]
    },
    {
      "cell_type": "code",
      "execution_count": 25,
      "metadata": {
        "id": "x0WeP5PREUuy"
      },
      "outputs": [],
      "source": [
        "batch_size = 5\n",
        "train_dataloader = DataLoader(\n",
        "    train_dataset,\n",
        "    sampler = RandomSampler(train_dataset),\n",
        "    batch_size = batch_size\n",
        ")\n",
        "validation_dataloader = DataLoader(\n",
        "    val_dataset,\n",
        "    sampler = SequentialSampler(val_dataset),\n",
        "    batch_size = batch_size\n",
        ")"
      ]
    },
    {
      "cell_type": "markdown",
      "metadata": {
        "id": "D6TKgyUzPIQc"
      },
      "source": [
        "# Finetune GPT2 Language Model"
      ]
    },
    {
      "cell_type": "code",
      "execution_count": 26,
      "metadata": {
        "id": "gFsCTp_mporB"
      },
      "outputs": [
        {
          "name": "stderr",
          "output_type": "stream",
          "text": [
            "model.safetensors: 100%|██████████| 548M/548M [00:09<00:00, 55.2MB/s] \n",
            "generation_config.json: 100%|██████████| 124/124 [00:00<00:00, 283kB/s]\n"
          ]
        }
      ],
      "source": [
        "configuration = GPT2Config.from_pretrained('gpt2', output_hidden_states=False)\n",
        "\n",
        "\n",
        "model = GPT2LMHeadModel.from_pretrained(\"gpt2\", config=configuration)\n",
        "model.resize_token_embeddings(len(tokenizer)) # otherwise the tokenizer and model tensors won't match up\n",
        "\n",
        "# Use device CUDA for Google Colab)\n",
        "device = torch.device(\"cpu\")\n",
        "# model.cuda()\n",
        "\n",
        "# Set the seed value all over the place to make this reproducible.\n",
        "seed_val = 42\n",
        "random.seed(seed_val)\n",
        "np.random.seed(seed_val)\n",
        "torch.manual_seed(seed_val)\n",
        "torch.cuda.manual_seed_all(seed_val)"
      ]
    },
    {
      "cell_type": "code",
      "execution_count": 27,
      "metadata": {
        "id": "pBEVY2PYSTXJ"
      },
      "outputs": [
        {
          "name": "stderr",
          "output_type": "stream",
          "text": [
            "/Users/olegbezr/Code/cs182-final-proj/train_venv/lib/python3.10/site-packages/transformers/optimization.py:411: FutureWarning: This implementation of AdamW is deprecated and will be removed in a future version. Use the PyTorch implementation torch.optim.AdamW instead, or set `no_deprecation_warning=True` to disable this warning\n",
            "  warnings.warn(\n"
          ]
        }
      ],
      "source": [
        "epochs = 20\n",
        "learning_rate = 5e-4\n",
        "warmup_steps = 1e2\n",
        "epsilon = 1e-8\n",
        "sample_every = 100\n",
        "\n",
        "optimizer = AdamW(\n",
        "  model.parameters(),\n",
        "  lr = learning_rate,\n",
        "  eps = epsilon\n",
        ")\n",
        "\n",
        "total_steps = len(train_dataloader) * epochs\n",
        "scheduler = get_linear_schedule_with_warmup(\n",
        "  optimizer,\n",
        "  num_warmup_steps = warmup_steps,\n",
        "  num_training_steps = total_steps\n",
        ")"
      ]
    },
    {
      "cell_type": "code",
      "execution_count": 28,
      "metadata": {
        "colab": {
          "base_uri": "https://localhost:8080/"
        },
        "id": "vCPohrZ-CTWu",
        "outputId": "1eb6377a-9982-4daa-8c27-9786fc93427a"
      },
      "outputs": [
        {
          "name": "stdout",
          "output_type": "stream",
          "text": [
            "\n",
            "======== Epoch 1 / 20 ========\n",
            "Training...\n"
          ]
        },
        {
          "ename": "KeyboardInterrupt",
          "evalue": "",
          "output_type": "error",
          "traceback": [
            "\u001b[0;31m---------------------------------------------------------------------------\u001b[0m",
            "\u001b[0;31mKeyboardInterrupt\u001b[0m                         Traceback (most recent call last)",
            "\u001b[1;32m/Users/olegbezr/Code/cs182-final-proj/training_notebooks/pytorch_articles.ipynb Cell 13\u001b[0m line \u001b[0;36m5\n\u001b[1;32m     <a href='vscode-notebook-cell:/Users/olegbezr/Code/cs182-final-proj/training_notebooks/pytorch_articles.ipynb#X31sZmlsZQ%3D%3D?line=49'>50</a>\u001b[0m         \u001b[39mprint\u001b[39m(\u001b[39m\"\u001b[39m\u001b[39m{}\u001b[39;00m\u001b[39m: \u001b[39m\u001b[39m{}\u001b[39;00m\u001b[39m\"\u001b[39m\u001b[39m.\u001b[39mformat(i, tokenizer\u001b[39m.\u001b[39mdecode(sample_output, skip_special_tokens\u001b[39m=\u001b[39m\u001b[39mTrue\u001b[39;00m)))\n\u001b[1;32m     <a href='vscode-notebook-cell:/Users/olegbezr/Code/cs182-final-proj/training_notebooks/pytorch_articles.ipynb#X31sZmlsZQ%3D%3D?line=50'>51</a>\u001b[0m     model\u001b[39m.\u001b[39mtrain()\n\u001b[0;32m---> <a href='vscode-notebook-cell:/Users/olegbezr/Code/cs182-final-proj/training_notebooks/pytorch_articles.ipynb#X31sZmlsZQ%3D%3D?line=52'>53</a>\u001b[0m loss\u001b[39m.\u001b[39;49mbackward()\n\u001b[1;32m     <a href='vscode-notebook-cell:/Users/olegbezr/Code/cs182-final-proj/training_notebooks/pytorch_articles.ipynb#X31sZmlsZQ%3D%3D?line=53'>54</a>\u001b[0m optimizer\u001b[39m.\u001b[39mstep()\n\u001b[1;32m     <a href='vscode-notebook-cell:/Users/olegbezr/Code/cs182-final-proj/training_notebooks/pytorch_articles.ipynb#X31sZmlsZQ%3D%3D?line=54'>55</a>\u001b[0m scheduler\u001b[39m.\u001b[39mstep()\n",
            "File \u001b[0;32m~/Code/cs182-final-proj/train_venv/lib/python3.10/site-packages/torch/_tensor.py:492\u001b[0m, in \u001b[0;36mTensor.backward\u001b[0;34m(self, gradient, retain_graph, create_graph, inputs)\u001b[0m\n\u001b[1;32m    482\u001b[0m \u001b[39mif\u001b[39;00m has_torch_function_unary(\u001b[39mself\u001b[39m):\n\u001b[1;32m    483\u001b[0m     \u001b[39mreturn\u001b[39;00m handle_torch_function(\n\u001b[1;32m    484\u001b[0m         Tensor\u001b[39m.\u001b[39mbackward,\n\u001b[1;32m    485\u001b[0m         (\u001b[39mself\u001b[39m,),\n\u001b[0;32m   (...)\u001b[0m\n\u001b[1;32m    490\u001b[0m         inputs\u001b[39m=\u001b[39minputs,\n\u001b[1;32m    491\u001b[0m     )\n\u001b[0;32m--> 492\u001b[0m torch\u001b[39m.\u001b[39;49mautograd\u001b[39m.\u001b[39;49mbackward(\n\u001b[1;32m    493\u001b[0m     \u001b[39mself\u001b[39;49m, gradient, retain_graph, create_graph, inputs\u001b[39m=\u001b[39;49minputs\n\u001b[1;32m    494\u001b[0m )\n",
            "File \u001b[0;32m~/Code/cs182-final-proj/train_venv/lib/python3.10/site-packages/torch/autograd/__init__.py:251\u001b[0m, in \u001b[0;36mbackward\u001b[0;34m(tensors, grad_tensors, retain_graph, create_graph, grad_variables, inputs)\u001b[0m\n\u001b[1;32m    246\u001b[0m     retain_graph \u001b[39m=\u001b[39m create_graph\n\u001b[1;32m    248\u001b[0m \u001b[39m# The reason we repeat the same comment below is that\u001b[39;00m\n\u001b[1;32m    249\u001b[0m \u001b[39m# some Python versions print out the first line of a multi-line function\u001b[39;00m\n\u001b[1;32m    250\u001b[0m \u001b[39m# calls in the traceback and some print out the last line\u001b[39;00m\n\u001b[0;32m--> 251\u001b[0m Variable\u001b[39m.\u001b[39;49m_execution_engine\u001b[39m.\u001b[39;49mrun_backward(  \u001b[39m# Calls into the C++ engine to run the backward pass\u001b[39;49;00m\n\u001b[1;32m    252\u001b[0m     tensors,\n\u001b[1;32m    253\u001b[0m     grad_tensors_,\n\u001b[1;32m    254\u001b[0m     retain_graph,\n\u001b[1;32m    255\u001b[0m     create_graph,\n\u001b[1;32m    256\u001b[0m     inputs,\n\u001b[1;32m    257\u001b[0m     allow_unreachable\u001b[39m=\u001b[39;49m\u001b[39mTrue\u001b[39;49;00m,\n\u001b[1;32m    258\u001b[0m     accumulate_grad\u001b[39m=\u001b[39;49m\u001b[39mTrue\u001b[39;49;00m,\n\u001b[1;32m    259\u001b[0m )\n",
            "\u001b[0;31mKeyboardInterrupt\u001b[0m: "
          ]
        }
      ],
      "source": [
        "def format_time(elapsed):\n",
        "    return str(datetime.timedelta(seconds=int(round((elapsed)))))\n",
        "\n",
        "total_t0 = time.time()\n",
        "training_stats = []\n",
        "model = model.to(device)\n",
        "\n",
        "for epoch_i in range(0, epochs):\n",
        "    # ========================================\n",
        "    #               Training\n",
        "    # ========================================\n",
        "    print(\"\")\n",
        "    print('======== Epoch {:} / {:} ========'.format(epoch_i + 1, epochs))\n",
        "    print('Training...')\n",
        "\n",
        "    t0 = time.time()\n",
        "    total_train_loss = 0\n",
        "    model.train()\n",
        "\n",
        "    for step, batch in enumerate(train_dataloader):\n",
        "        b_input_ids = batch[0].to(device)\n",
        "        b_labels = batch[0].to(device)\n",
        "        b_masks = batch[1].to(device)\n",
        "        model.zero_grad()\n",
        "        outputs = model(\n",
        "            b_input_ids,\n",
        "            labels=b_labels,\n",
        "            attention_mask = b_masks,\n",
        "            token_type_ids=None\n",
        "        )\n",
        "        loss = outputs[0]\n",
        "\n",
        "        batch_loss = loss.item()\n",
        "        total_train_loss += batch_loss\n",
        "\n",
        "        # Get sample every x batches.\n",
        "        if step % sample_every == 0 and not step == 0:\n",
        "            elapsed = format_time(time.time() - t0)\n",
        "            print('Batch {:>5,} of {:>5,}. Loss: {:>5,}. Elapsed: {:}.'.format(step, len(train_dataloader), batch_loss, elapsed))\n",
        "            model.eval()\n",
        "            sample_outputs = model.generate(\n",
        "                bos_token_id=random.randint(1,30000),\n",
        "                do_sample=True,\n",
        "                top_k=50,\n",
        "                max_length = 200,\n",
        "                top_p=0.95,\n",
        "                num_return_sequences=1\n",
        "            )\n",
        "            for i, sample_output in enumerate(sample_outputs):\n",
        "                print(\"{}: {}\".format(i, tokenizer.decode(sample_output, skip_special_tokens=True)))\n",
        "            model.train()\n",
        "            \n",
        "        loss.backward()\n",
        "        optimizer.step()\n",
        "        scheduler.step()\n",
        "\n",
        "    # Calculate the average loss over all of the batches.\n",
        "    avg_train_loss = total_train_loss / len(train_dataloader)\n",
        "\n",
        "    # Measure how long this epoch took.\n",
        "    training_time = format_time(time.time() - t0)\n",
        "\n",
        "    print(\"\")\n",
        "    print(\"  Average training loss: {0:.2f}\".format(avg_train_loss))\n",
        "    print(\"  Training epoch took: {:}\".format(training_time))\n",
        "\n",
        "    # ========================================\n",
        "    #               Validation\n",
        "    # ========================================\n",
        "    print(\"\")\n",
        "    print(\"Running Validation...\")\n",
        "\n",
        "    t0 = time.time()\n",
        "    model.eval()\n",
        "    total_eval_loss = 0\n",
        "    nb_eval_steps = 0\n",
        "\n",
        "    # Evaluate data for one epoch\n",
        "    for batch in validation_dataloader:\n",
        "        b_input_ids = batch[0].to(device)\n",
        "        b_labels = batch[0].to(device)\n",
        "        b_masks = batch[1].to(device)\n",
        "\n",
        "        with torch.no_grad():\n",
        "            outputs  = model( \n",
        "                b_input_ids,\n",
        "                attention_mask = b_masks,\n",
        "                labels=b_labels\n",
        "            )\n",
        "            loss = outputs[0]\n",
        "        batch_loss = loss.item()\n",
        "        total_eval_loss += batch_loss\n",
        "\n",
        "    avg_val_loss = total_eval_loss / len(validation_dataloader)\n",
        "    validation_time = format_time(time.time() - t0)\n",
        "    print(\"  Validation Loss: {0:.2f}\".format(avg_val_loss))\n",
        "    print(\"  Validation took: {:}\".format(validation_time))\n",
        "\n",
        "    # Record all statistics from this epoch.\n",
        "    training_stats.append({\n",
        "        'epoch': epoch_i + 1,\n",
        "        'Training Loss': avg_train_loss,\n",
        "        'Valid. Loss': avg_val_loss,\n",
        "        'Training Time': training_time,\n",
        "        'Validation Time': validation_time\n",
        "    })\n",
        "\n",
        "print(\"\")\n",
        "print(\"Training complete!\")\n",
        "print(\"Total training took {:} (h:mm:ss)\".format(format_time(time.time()-total_t0)))"
      ]
    },
    {
      "cell_type": "markdown",
      "metadata": {
        "id": "VQTvJ1vRP7u4"
      },
      "source": [
        "Let's view the summary of the training process."
      ]
    },
    {
      "cell_type": "code",
      "execution_count": null,
      "metadata": {
        "colab": {
          "base_uri": "https://localhost:8080/",
          "height": 237
        },
        "id": "6O_NbXFGMukX",
        "outputId": "2747bd31-3e51-4663-faab-57ee0bf1917e"
      },
      "outputs": [
        {
          "data": {
            "text/html": [
              "\n",
              "  <div id=\"df-bacbed93-089b-4d52-99d4-967b5d8f2d15\" class=\"colab-df-container\">\n",
              "    <div>\n",
              "<style scoped>\n",
              "    .dataframe tbody tr th:only-of-type {\n",
              "        vertical-align: middle;\n",
              "    }\n",
              "\n",
              "    .dataframe tbody tr th {\n",
              "        vertical-align: top;\n",
              "    }\n",
              "\n",
              "    .dataframe thead th {\n",
              "        text-align: right;\n",
              "    }\n",
              "</style>\n",
              "<table border=\"1\" class=\"dataframe\">\n",
              "  <thead>\n",
              "    <tr style=\"text-align: right;\">\n",
              "      <th></th>\n",
              "      <th>Training Loss</th>\n",
              "      <th>Valid. Loss</th>\n",
              "      <th>Training Time</th>\n",
              "      <th>Validation Time</th>\n",
              "    </tr>\n",
              "    <tr>\n",
              "      <th>epoch</th>\n",
              "      <th></th>\n",
              "      <th></th>\n",
              "      <th></th>\n",
              "      <th></th>\n",
              "    </tr>\n",
              "  </thead>\n",
              "  <tbody>\n",
              "    <tr>\n",
              "      <th>1</th>\n",
              "      <td>9.881409</td>\n",
              "      <td>2.787002</td>\n",
              "      <td>0:00:34</td>\n",
              "      <td>0:00:01</td>\n",
              "    </tr>\n",
              "    <tr>\n",
              "      <th>2</th>\n",
              "      <td>2.372820</td>\n",
              "      <td>2.336207</td>\n",
              "      <td>0:00:31</td>\n",
              "      <td>0:00:01</td>\n",
              "    </tr>\n",
              "    <tr>\n",
              "      <th>3</th>\n",
              "      <td>2.001034</td>\n",
              "      <td>2.170490</td>\n",
              "      <td>0:00:31</td>\n",
              "      <td>0:00:01</td>\n",
              "    </tr>\n",
              "    <tr>\n",
              "      <th>4</th>\n",
              "      <td>1.783820</td>\n",
              "      <td>2.078314</td>\n",
              "      <td>0:00:32</td>\n",
              "      <td>0:00:02</td>\n",
              "    </tr>\n",
              "    <tr>\n",
              "      <th>5</th>\n",
              "      <td>1.655084</td>\n",
              "      <td>2.050146</td>\n",
              "      <td>0:00:31</td>\n",
              "      <td>0:00:01</td>\n",
              "    </tr>\n",
              "  </tbody>\n",
              "</table>\n",
              "</div>\n",
              "    <div class=\"colab-df-buttons\">\n",
              "\n",
              "  <div class=\"colab-df-container\">\n",
              "    <button class=\"colab-df-convert\" onclick=\"convertToInteractive('df-bacbed93-089b-4d52-99d4-967b5d8f2d15')\"\n",
              "            title=\"Convert this dataframe to an interactive table.\"\n",
              "            style=\"display:none;\">\n",
              "\n",
              "  <svg xmlns=\"http://www.w3.org/2000/svg\" height=\"24px\" viewBox=\"0 -960 960 960\">\n",
              "    <path d=\"M120-120v-720h720v720H120Zm60-500h600v-160H180v160Zm220 220h160v-160H400v160Zm0 220h160v-160H400v160ZM180-400h160v-160H180v160Zm440 0h160v-160H620v160ZM180-180h160v-160H180v160Zm440 0h160v-160H620v160Z\"/>\n",
              "  </svg>\n",
              "    </button>\n",
              "\n",
              "  <style>\n",
              "    .colab-df-container {\n",
              "      display:flex;\n",
              "      gap: 12px;\n",
              "    }\n",
              "\n",
              "    .colab-df-convert {\n",
              "      background-color: #E8F0FE;\n",
              "      border: none;\n",
              "      border-radius: 50%;\n",
              "      cursor: pointer;\n",
              "      display: none;\n",
              "      fill: #1967D2;\n",
              "      height: 32px;\n",
              "      padding: 0 0 0 0;\n",
              "      width: 32px;\n",
              "    }\n",
              "\n",
              "    .colab-df-convert:hover {\n",
              "      background-color: #E2EBFA;\n",
              "      box-shadow: 0px 1px 2px rgba(60, 64, 67, 0.3), 0px 1px 3px 1px rgba(60, 64, 67, 0.15);\n",
              "      fill: #174EA6;\n",
              "    }\n",
              "\n",
              "    .colab-df-buttons div {\n",
              "      margin-bottom: 4px;\n",
              "    }\n",
              "\n",
              "    [theme=dark] .colab-df-convert {\n",
              "      background-color: #3B4455;\n",
              "      fill: #D2E3FC;\n",
              "    }\n",
              "\n",
              "    [theme=dark] .colab-df-convert:hover {\n",
              "      background-color: #434B5C;\n",
              "      box-shadow: 0px 1px 3px 1px rgba(0, 0, 0, 0.15);\n",
              "      filter: drop-shadow(0px 1px 2px rgba(0, 0, 0, 0.3));\n",
              "      fill: #FFFFFF;\n",
              "    }\n",
              "  </style>\n",
              "\n",
              "    <script>\n",
              "      const buttonEl =\n",
              "        document.querySelector('#df-bacbed93-089b-4d52-99d4-967b5d8f2d15 button.colab-df-convert');\n",
              "      buttonEl.style.display =\n",
              "        google.colab.kernel.accessAllowed ? 'block' : 'none';\n",
              "\n",
              "      async function convertToInteractive(key) {\n",
              "        const element = document.querySelector('#df-bacbed93-089b-4d52-99d4-967b5d8f2d15');\n",
              "        const dataTable =\n",
              "          await google.colab.kernel.invokeFunction('convertToInteractive',\n",
              "                                                    [key], {});\n",
              "        if (!dataTable) return;\n",
              "\n",
              "        const docLinkHtml = 'Like what you see? Visit the ' +\n",
              "          '<a target=\"_blank\" href=https://colab.research.google.com/notebooks/data_table.ipynb>data table notebook</a>'\n",
              "          + ' to learn more about interactive tables.';\n",
              "        element.innerHTML = '';\n",
              "        dataTable['output_type'] = 'display_data';\n",
              "        await google.colab.output.renderOutput(dataTable, element);\n",
              "        const docLink = document.createElement('div');\n",
              "        docLink.innerHTML = docLinkHtml;\n",
              "        element.appendChild(docLink);\n",
              "      }\n",
              "    </script>\n",
              "  </div>\n",
              "\n",
              "\n",
              "<div id=\"df-ca1c5496-fe43-4191-80d2-4b4240dafec3\">\n",
              "  <button class=\"colab-df-quickchart\" onclick=\"quickchart('df-ca1c5496-fe43-4191-80d2-4b4240dafec3')\"\n",
              "            title=\"Suggest charts\"\n",
              "            style=\"display:none;\">\n",
              "\n",
              "<svg xmlns=\"http://www.w3.org/2000/svg\" height=\"24px\"viewBox=\"0 0 24 24\"\n",
              "     width=\"24px\">\n",
              "    <g>\n",
              "        <path d=\"M19 3H5c-1.1 0-2 .9-2 2v14c0 1.1.9 2 2 2h14c1.1 0 2-.9 2-2V5c0-1.1-.9-2-2-2zM9 17H7v-7h2v7zm4 0h-2V7h2v10zm4 0h-2v-4h2v4z\"/>\n",
              "    </g>\n",
              "</svg>\n",
              "  </button>\n",
              "\n",
              "<style>\n",
              "  .colab-df-quickchart {\n",
              "      --bg-color: #E8F0FE;\n",
              "      --fill-color: #1967D2;\n",
              "      --hover-bg-color: #E2EBFA;\n",
              "      --hover-fill-color: #174EA6;\n",
              "      --disabled-fill-color: #AAA;\n",
              "      --disabled-bg-color: #DDD;\n",
              "  }\n",
              "\n",
              "  [theme=dark] .colab-df-quickchart {\n",
              "      --bg-color: #3B4455;\n",
              "      --fill-color: #D2E3FC;\n",
              "      --hover-bg-color: #434B5C;\n",
              "      --hover-fill-color: #FFFFFF;\n",
              "      --disabled-bg-color: #3B4455;\n",
              "      --disabled-fill-color: #666;\n",
              "  }\n",
              "\n",
              "  .colab-df-quickchart {\n",
              "    background-color: var(--bg-color);\n",
              "    border: none;\n",
              "    border-radius: 50%;\n",
              "    cursor: pointer;\n",
              "    display: none;\n",
              "    fill: var(--fill-color);\n",
              "    height: 32px;\n",
              "    padding: 0;\n",
              "    width: 32px;\n",
              "  }\n",
              "\n",
              "  .colab-df-quickchart:hover {\n",
              "    background-color: var(--hover-bg-color);\n",
              "    box-shadow: 0 1px 2px rgba(60, 64, 67, 0.3), 0 1px 3px 1px rgba(60, 64, 67, 0.15);\n",
              "    fill: var(--button-hover-fill-color);\n",
              "  }\n",
              "\n",
              "  .colab-df-quickchart-complete:disabled,\n",
              "  .colab-df-quickchart-complete:disabled:hover {\n",
              "    background-color: var(--disabled-bg-color);\n",
              "    fill: var(--disabled-fill-color);\n",
              "    box-shadow: none;\n",
              "  }\n",
              "\n",
              "  .colab-df-spinner {\n",
              "    border: 2px solid var(--fill-color);\n",
              "    border-color: transparent;\n",
              "    border-bottom-color: var(--fill-color);\n",
              "    animation:\n",
              "      spin 1s steps(1) infinite;\n",
              "  }\n",
              "\n",
              "  @keyframes spin {\n",
              "    0% {\n",
              "      border-color: transparent;\n",
              "      border-bottom-color: var(--fill-color);\n",
              "      border-left-color: var(--fill-color);\n",
              "    }\n",
              "    20% {\n",
              "      border-color: transparent;\n",
              "      border-left-color: var(--fill-color);\n",
              "      border-top-color: var(--fill-color);\n",
              "    }\n",
              "    30% {\n",
              "      border-color: transparent;\n",
              "      border-left-color: var(--fill-color);\n",
              "      border-top-color: var(--fill-color);\n",
              "      border-right-color: var(--fill-color);\n",
              "    }\n",
              "    40% {\n",
              "      border-color: transparent;\n",
              "      border-right-color: var(--fill-color);\n",
              "      border-top-color: var(--fill-color);\n",
              "    }\n",
              "    60% {\n",
              "      border-color: transparent;\n",
              "      border-right-color: var(--fill-color);\n",
              "    }\n",
              "    80% {\n",
              "      border-color: transparent;\n",
              "      border-right-color: var(--fill-color);\n",
              "      border-bottom-color: var(--fill-color);\n",
              "    }\n",
              "    90% {\n",
              "      border-color: transparent;\n",
              "      border-bottom-color: var(--fill-color);\n",
              "    }\n",
              "  }\n",
              "</style>\n",
              "\n",
              "  <script>\n",
              "    async function quickchart(key) {\n",
              "      const quickchartButtonEl =\n",
              "        document.querySelector('#' + key + ' button');\n",
              "      quickchartButtonEl.disabled = true;  // To prevent multiple clicks.\n",
              "      quickchartButtonEl.classList.add('colab-df-spinner');\n",
              "      try {\n",
              "        const charts = await google.colab.kernel.invokeFunction(\n",
              "            'suggestCharts', [key], {});\n",
              "      } catch (error) {\n",
              "        console.error('Error during call to suggestCharts:', error);\n",
              "      }\n",
              "      quickchartButtonEl.classList.remove('colab-df-spinner');\n",
              "      quickchartButtonEl.classList.add('colab-df-quickchart-complete');\n",
              "    }\n",
              "    (() => {\n",
              "      let quickchartButtonEl =\n",
              "        document.querySelector('#df-ca1c5496-fe43-4191-80d2-4b4240dafec3 button');\n",
              "      quickchartButtonEl.style.display =\n",
              "        google.colab.kernel.accessAllowed ? 'block' : 'none';\n",
              "    })();\n",
              "  </script>\n",
              "</div>\n",
              "\n",
              "  <div id=\"id_0bd6e944-771b-48d6-8901-69cc716cd997\">\n",
              "    <style>\n",
              "      .colab-df-generate {\n",
              "        background-color: #E8F0FE;\n",
              "        border: none;\n",
              "        border-radius: 50%;\n",
              "        cursor: pointer;\n",
              "        display: none;\n",
              "        fill: #1967D2;\n",
              "        height: 32px;\n",
              "        padding: 0 0 0 0;\n",
              "        width: 32px;\n",
              "      }\n",
              "\n",
              "      .colab-df-generate:hover {\n",
              "        background-color: #E2EBFA;\n",
              "        box-shadow: 0px 1px 2px rgba(60, 64, 67, 0.3), 0px 1px 3px 1px rgba(60, 64, 67, 0.15);\n",
              "        fill: #174EA6;\n",
              "      }\n",
              "\n",
              "      [theme=dark] .colab-df-generate {\n",
              "        background-color: #3B4455;\n",
              "        fill: #D2E3FC;\n",
              "      }\n",
              "\n",
              "      [theme=dark] .colab-df-generate:hover {\n",
              "        background-color: #434B5C;\n",
              "        box-shadow: 0px 1px 3px 1px rgba(0, 0, 0, 0.15);\n",
              "        filter: drop-shadow(0px 1px 2px rgba(0, 0, 0, 0.3));\n",
              "        fill: #FFFFFF;\n",
              "      }\n",
              "    </style>\n",
              "    <button class=\"colab-df-generate\" onclick=\"generateWithVariable('df_stats')\"\n",
              "            title=\"Generate code using this dataframe.\"\n",
              "            style=\"display:none;\">\n",
              "\n",
              "  <svg xmlns=\"http://www.w3.org/2000/svg\" height=\"24px\"viewBox=\"0 0 24 24\"\n",
              "       width=\"24px\">\n",
              "    <path d=\"M7,19H8.4L18.45,9,17,7.55,7,17.6ZM5,21V16.75L18.45,3.32a2,2,0,0,1,2.83,0l1.4,1.43a1.91,1.91,0,0,1,.58,1.4,1.91,1.91,0,0,1-.58,1.4L9.25,21ZM18.45,9,17,7.55Zm-12,3A5.31,5.31,0,0,0,4.9,8.1,5.31,5.31,0,0,0,1,6.5,5.31,5.31,0,0,0,4.9,4.9,5.31,5.31,0,0,0,6.5,1,5.31,5.31,0,0,0,8.1,4.9,5.31,5.31,0,0,0,12,6.5,5.46,5.46,0,0,0,6.5,12Z\"/>\n",
              "  </svg>\n",
              "    </button>\n",
              "    <script>\n",
              "      (() => {\n",
              "      const buttonEl =\n",
              "        document.querySelector('#id_0bd6e944-771b-48d6-8901-69cc716cd997 button.colab-df-generate');\n",
              "      buttonEl.style.display =\n",
              "        google.colab.kernel.accessAllowed ? 'block' : 'none';\n",
              "\n",
              "      buttonEl.onclick = () => {\n",
              "        google.colab.notebook.generateWithVariable('df_stats');\n",
              "      }\n",
              "      })();\n",
              "    </script>\n",
              "  </div>\n",
              "\n",
              "    </div>\n",
              "  </div>\n"
            ],
            "text/plain": [
              "       Training Loss  Valid. Loss Training Time Validation Time\n",
              "epoch                                                          \n",
              "1           9.881409     2.787002       0:00:34         0:00:01\n",
              "2           2.372820     2.336207       0:00:31         0:00:01\n",
              "3           2.001034     2.170490       0:00:31         0:00:01\n",
              "4           1.783820     2.078314       0:00:32         0:00:02\n",
              "5           1.655084     2.050146       0:00:31         0:00:01"
            ]
          },
          "execution_count": 19,
          "metadata": {},
          "output_type": "execute_result"
        }
      ],
      "source": [
        "# Create a DataFrame from our training statistics.\n",
        "df_stats = pd.DataFrame(data=training_stats)\n",
        "df_stats = df_stats.set_index('epoch')\n",
        "df_stats"
      ]
    },
    {
      "cell_type": "code",
      "execution_count": null,
      "metadata": {
        "colab": {
          "base_uri": "https://localhost:8080/",
          "height": 592
        },
        "id": "68xreA9JAmG5",
        "outputId": "beeb95be-63a7-45cc-ea05-b38fc4fcb7f9"
      },
      "outputs": [
        {
          "data": {
            "image/png": "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",
            "text/plain": [
              "<Figure size 1200x600 with 1 Axes>"
            ]
          },
          "metadata": {},
          "output_type": "display_data"
        }
      ],
      "source": [
        "sns.set(style='darkgrid')\n",
        "sns.set(font_scale=1.5)\n",
        "plt.rcParams[\"figure.figsize\"] = (12,6)\n",
        "\n",
        "# Plot the learning curve.\n",
        "plt.plot(df_stats['Training Loss'], 'b-o', label=\"Training\")\n",
        "plt.plot(df_stats['Valid. Loss'], 'g-o', label=\"Validation\")\n",
        "\n",
        "# Label the plot.\n",
        "plt.title(\"Training & Validation Loss\")\n",
        "plt.xlabel(\"Epoch\")\n",
        "plt.ylabel(\"Loss\")\n",
        "plt.legend()\n",
        "plt.xticks([1, 2, 3, 4])\n",
        "\n",
        "plt.show()"
      ]
    },
    {
      "cell_type": "markdown",
      "metadata": {
        "id": "GfjYoa6WmkN6"
      },
      "source": [
        "# Display Model Info"
      ]
    },
    {
      "cell_type": "code",
      "execution_count": null,
      "metadata": {
        "colab": {
          "base_uri": "https://localhost:8080/"
        },
        "id": "8PIiVlDYCtSq",
        "outputId": "be2f9899-0015-4235-832c-cf9364a12ff2"
      },
      "outputs": [
        {
          "name": "stdout",
          "output_type": "stream",
          "text": [
            "The GPT-2 model has 148 different named parameters.\n",
            "\n",
            "==== Embedding Layer ====\n",
            "\n",
            "transformer.wte.weight                                  (50259, 768)\n",
            "transformer.wpe.weight                                   (1024, 768)\n",
            "\n",
            "==== First Transformer ====\n",
            "\n",
            "transformer.h.0.ln_1.weight                                   (768,)\n",
            "transformer.h.0.ln_1.bias                                     (768,)\n",
            "transformer.h.0.attn.c_attn.weight                       (768, 2304)\n",
            "transformer.h.0.attn.c_attn.bias                             (2304,)\n",
            "transformer.h.0.attn.c_proj.weight                        (768, 768)\n",
            "transformer.h.0.attn.c_proj.bias                              (768,)\n",
            "transformer.h.0.ln_2.weight                                   (768,)\n",
            "transformer.h.0.ln_2.bias                                     (768,)\n",
            "transformer.h.0.mlp.c_fc.weight                          (768, 3072)\n",
            "transformer.h.0.mlp.c_fc.bias                                (3072,)\n",
            "transformer.h.0.mlp.c_proj.weight                        (3072, 768)\n",
            "transformer.h.0.mlp.c_proj.bias                               (768,)\n",
            "\n",
            "==== Output Layer ====\n",
            "\n",
            "transformer.ln_f.weight                                       (768,)\n",
            "transformer.ln_f.bias                                         (768,)\n"
          ]
        }
      ],
      "source": [
        "# Get all of the model's parameters as a list of tuples.\n",
        "params = list(model.named_parameters())\n",
        "\n",
        "print('The GPT-2 model has {:} different named parameters.\\n'.format(len(params)))\n",
        "print('==== Embedding Layer ====\\n')\n",
        "\n",
        "for p in params[0:2]:\n",
        "    print(\"{:<55} {:>12}\".format(p[0], str(tuple(p[1].size()))))\n",
        "\n",
        "print('\\n==== First Transformer ====\\n')\n",
        "\n",
        "for p in params[2:14]:\n",
        "    print(\"{:<55} {:>12}\".format(p[0], str(tuple(p[1].size()))))\n",
        "\n",
        "print('\\n==== Output Layer ====\\n')\n",
        "\n",
        "for p in params[-2:]:\n",
        "    print(\"{:<55} {:>12}\".format(p[0], str(tuple(p[1].size()))))"
      ]
    },
    {
      "cell_type": "markdown",
      "metadata": {
        "id": "q2079Qyn8Mt8"
      },
      "source": [
        "# Saving & Loading Fine-Tuned Model\n"
      ]
    },
    {
      "cell_type": "code",
      "execution_count": null,
      "metadata": {
        "colab": {
          "base_uri": "https://localhost:8080/"
        },
        "id": "6ulTWaOr8QNY",
        "outputId": "4b1b3033-bb4b-4879-bd30-f0d074dc9b04"
      },
      "outputs": [
        {
          "name": "stdout",
          "output_type": "stream",
          "text": [
            "Saving model to ./model_save/\n"
          ]
        },
        {
          "data": {
            "text/plain": [
              "('./model_save/tokenizer_config.json',\n",
              " './model_save/special_tokens_map.json',\n",
              " './model_save/vocab.json',\n",
              " './model_save/merges.txt',\n",
              " './model_save/added_tokens.json')"
            ]
          },
          "execution_count": 22,
          "metadata": {},
          "output_type": "execute_result"
        }
      ],
      "source": [
        "# Saving best-practices: if you use defaults names for the model, you can reload it using from_pretrained()\n",
        "\n",
        "output_dir = './model_save/'\n",
        "\n",
        "# Create output directory if needed\n",
        "if not os.path.exists(output_dir):\n",
        "    os.makedirs(output_dir)\n",
        "\n",
        "print(\"Saving model to %s\" % output_dir)\n",
        "\n",
        "# Save a trained model, configuration and tokenizer using `save_pretrained()`.\n",
        "# They can then be reloaded using `from_pretrained()`\n",
        "model_to_save = model.module if hasattr(model, 'module') else model  # Take care of distributed/parallel training\n",
        "model_to_save.save_pretrained(output_dir)\n",
        "tokenizer.save_pretrained(output_dir)\n",
        "\n",
        "# Good practice: save your training arguments together with the trained model\n",
        "# torch.save(args, os.path.join(output_dir, 'training_args.bin'))"
      ]
    },
    {
      "cell_type": "markdown",
      "metadata": {
        "id": "ZLf6rbRglYhQ"
      },
      "source": [
        "# Generate Text"
      ]
    },
    {
      "cell_type": "code",
      "execution_count": null,
      "metadata": {
        "colab": {
          "base_uri": "https://localhost:8080/"
        },
        "id": "v4XhewaV93-_",
        "outputId": "4bde7d9c-fd05-4898-bb9d-badce4286400"
      },
      "outputs": [
        {
          "name": "stderr",
          "output_type": "stream",
          "text": [
            "The attention mask and the pad token id were not set. As a consequence, you may observe unexpected behavior. Please pass your input's `attention_mask` to obtain reliable results.\n",
            "Setting `pad_token_id` to `eos_token_id`:50256 for open-end generation.\n"
          ]
        },
        {
          "name": "stdout",
          "output_type": "stream",
          "text": [
            "tensor([[50257]], device='cuda:0')\n",
            "0: A federal judge in Baltimore has ruled that the Baltimore Sun violated its First Amendment rights when it printed over a newspaper full of racially charged and inflammatory content in an attempt to conceal the fact that the Sun was violating its own publication policy. The decision is a blow to journalism that has taken hold in the city since the summer, when the newspaper announced plans to post racially charged content online to avoid further fraying relations between its editorial staff and its readers. “There’s no justification for this “cure” in light of what’s in the newspaper’s print edition,\" Judge Robert Ferguson said. The opinion was issued by Justice Ruth Bader Ginsburg.\n",
            "In a statement issued shortly after his ruling, Ferguson explained the new ruling.\n",
            "\"The Sun’s publication policy permits them to print racist content that is overtly offensive on a daily basis, regardless of whether the content has the influence of political opponents, local residents or the media. These are things “that’re “outraged” readers and readers of the Sun — people that are worried about the impact of hate, for example, or just folks who care about what’s important and what’s supposed to be in our newspaper. This article is not, however, meant to convey a racist message, or to point out that it’s part of the culture of the city; rather, it is intended for readers, readers, and readers of the newspaper. Thus, it was permitted to print a racist content that was plainly offensive upon its face, regardless of the fact that any such content could be considered “offensive” by the local newspaper.\"\n",
            "That was what happened when the Sun published an op-ed by an anti-Semitic writer named Antony Gwynne Doolittle that featured her taking a trip to the salon at Abbey in order to read a Holocaust survivor’s diary. Though the editorial did contain racist content — such as the “conjecture to “collective punishment” — the Daily Mail published similar content. The Daily Mail did not post a single, unredeemed negative screed or offensive language, and even did not even mention that the content of the column could be construed as “racist.” The author was Mark Berman, of the Holocaust survivor’s website and a noted Holocaust denier. The Sun’s decision also comes as a heavy blow to any efforts by public figures and media organizations to maintain racial separation following the 2016 election of Donald Trump as president, but also shows that the Post-PC era, when “anti-racism and anti-statism have no place in journalism,” will continue to persist.\n",
            "According to a report from The Advocate, Politico published similar guidance from the Justice Department in its 2017 review of “Unlawful Preliminary Review” and also warned that “reopening our democracy” can be deadly. The Times did not post a single, unredeemed negative screed, but did post a whitewashing piece that featured racist stereotypes and did not even mention the Holocaust. The report was part of a larger effort by the Justice Department to muzzle political opponents of Trump’s agenda, including anti-Semitic writer Michelle Malkin and her group, the Anti-Defamation League.\n",
            "The New York Times and the Washington Post published a similar, unpublished report on the issue in 2017. The paper also published a “Clear Skies” column that noted that “the law can be applied to any section of our city’s public transportation system, whether those are private or public. “In such circumstances, a person may be stopped by a traffic stop, a patrol, or police car, even when the stop is made in response to a complaint filed by the citizenry.\n",
            "Whether the city council passes such a law will depend on the interpretation of a city council vote, and in certain circumstances — such as when driving through a park or a park-and-ride zone in a community — it could result in criminal charges and criminal charges being filed.\n",
            "In light of this editorial, Judge Ferguson’s ruling threatens to change how we approach race, whether it be a city or individual. “What the Times is not telling the public is that, with Trump’s recent racist comments, they’re now ignoring or minimizing his racism and instead concentrating on “reopening our democracy for all Americans,” according to a statement issued by a Justice Department spokeswoman.\n",
            "“I would hope, in the worst case, the Times would approach this decision as an acknowledgment that the city’s public safety and wellbeing can be “fully protected by doing this work,\" Ferguson told me at yesterday’s press briefing.\n",
            "Judge Ferguson was joined by four other judges in a bench of nine men of\n",
            "\n",
            "\n",
            "1: . This is how Donald Trump’s campaign pulled out of the Paris Agreement — a brutal, brutal pact signed on January 20 to tackle climate change — and he lied to reporters.\n",
            "For years now, the Republican presidential front-runner has stood by and defended the Paris Accord, telling reporters that it was an \"executive agreement\" that “could’t be altered by Congress.” Meanwhile, he’d admitted that he has “never seen a deal between the federal government and a country that was less committed to fighting global warming than Trump’s.\"\n",
            "But there’s one glaring, fundamental truth that’s become increasingly clear in the recent past weeks: that if there’s any doubt that Trump is “entitled” to a “final deal with the Paris Agreement, it’s his party—not the White House,” one of the largest donors to Trump’s campaign.\n",
            "That’s why he’s pushing for the continuation of the United Nations Conference on Climate Change, the only international body on climate change. And the danger is that, given Trump’s past propensity for “fake news and ‘statistic-shaming, this fight is hopelessly lost.”\n",
            "“If Trump really cares about keeping this agreement from happening, then he will have to abandon his own party, or face a challenge from establishment GOP leaders who will only take him out of the race. It’s tragic that Trump’s presidency was framed by Team Trump, a far cry from the values and common sense he held at the State Department.\n",
            "That’s why he’d be so keen on scrapping the Paris Agreement and sticking to the principles of the United Nations. Even in the midst of the Trump era, he has been willing to risk the United States’s international credibility for other countries. Last year, he tried, only to be scorned by Russia for what he called “birtherism” and other \"political correctness\" scolding.\n",
            "But Donald Trump is not the only Republican who thinks the 2020 election might be a sham. Last month, conservative commentator Mark Meadows offered a bizarre, if somewhat surprising, parallel to the GOP’s 2017 primary fight with Rep. Paul Gosar.\n",
            "Let’s talk about our differences. First, it’s important not to exaggerate the magnitude of our differences; in fact, I have a hard time” telling you how many Democrats and liberals I’m talking about here who think the United States could be better off without our climate policies,” and I’m guessing we would all agree with that point. Second, if we’re talking about our differences as a whole, we need to stop pretending we are somehow more comparable than others. As an aside, this is a tough sell, because we do need to make sure people realize that we have vastly different views of climate change.\n",
            "But there’s another side benefit to having more common sense than Trump and me. If you’re a Republican, you might want to reconsider your position, but you’re going to get it because there’s a lot of work left to do.\n",
            "First, there are arguments for and against the Paris Agreement. Even John Bolton, the former Trump administration official, called the proposal to limit emissions from coal-fired power plants a “hoax” as if it were a sustainable path to global warming. And I agree with that. That’s not an outrageous exaggeration; coal-fired power plants that don’t produce much carbon dioxide make up a mere fraction of the carbon emissions that go back into the atmosphere.\n",
            "Second, the Paris Agreement would likely hurt coal-fired power companies because the Paris Agreement requires that countries abandon emissions-cutting rules, which may or may not have been intended to reduce CO2 emissions. But the Paris Agreement also calls for the construction of a ‘greenhouse gas reduction scheme” — even if it also means converting coal plants in developing countries to non-polluting power — which Trump will happily support. That’s probably because the Paris Agreement would only affect companies that invest in renewable energy, such as wind and solar, so it’s not much of a shock that Trump is going to use Trump-like rhetoric and campaign contributions to try to persuade the public to support coal-fired power.\n",
            "It’s worth emphasizing, however, that the Paris Agreement also includes protections against the U.S. export and import tariffs on coal plants and the use of steel as a material for high-quality steel composite.\n",
            "Even so, the Trump administration wants to roll back regulations on steel production, which would harm a lot of American manufacturing, and is now negotiating to weaken or eliminate\n",
            "\n",
            "\n",
            "2: Vinegar disease caused by the Varicella virus (varicella)\n",
            "Mycorrhizal (including chronic fatigue syndrome) also affects women\n",
            "Vinegar is caused by the Varicella coronavirus (vaxxed coronavirus) but is less common than cervical cancer. A small proportion of sexually active women (about 0.5% of the population) get it. Women who get cervical cancer also get pneumonia, diarrheal disease, heart arrhythmias, low back pain, diabetes, and anal and anal infections. Varicella can spread directly to your penis, and the HPV vaccine prevents cervical cancer. Varicella is a rare disease caused by the HPV vaccine and is less common than cervical cancer.\n",
            "The Varicella coronavirus is generally in the United States and may be imported to other parts of the world. If you live in a country where most of the population is infected with this virus, you may be at increased risk of contracting the disease. Many people acquire the virus through the first trimester of pregnancy, while others acquire it through an infected person who has had vaginal lesions. time frame for transmission of the Varicella virus is generally between 6 and points after the first trimester of pregnancy, depending on the timing. When it does reach your clinic, cervical cancer can be treated successfully. Most procedures are safe if they do not cause significant side effects, and procedures are sometimes painful.\n",
            "A woman traveling with her family after a Varicella infection is generally under the care of an infectious-disease specialist. time frame for transmission of Varicella is typically between 6 and 12 weeks after the last trimester of pregnancy. Your health care professional will determine your coverage for the virus, including any needed care, tests, vaccines and treatment. Women must take a Pap smear before they get the virus and have vaginal swab or vaginal swab in the vagina. If your Pap smear shows any abnormalities during treatment, contact your healthcare professional. Your health care professional will evaluate your risk of infection and time frame for transmission. The HPV vaccine prevents cervical cancer. Your cervical cancer diagnosis and testing may take up to 6 weeks after your first trimester of pregnancy. Your risk of developing Pap smears is based on age at first trimester vaginal shedding. If you have vaginal warts or lesions or have advanced stage cervical cancer, your Pap smear could be positive for the virus. Your Pap smears may be positive for up to 2 months after your last trimester vaginal shedding or a minimum of 3 years after you become infected with the virus. Your risk is considered life-threatening if your rash develops after the initial 12 weeks.\n",
            "Get the cervical cancer time frame time frame\n",
            "Get the National Index for cervical cancer\n",
            "Find out more about how we treat cervical cancer\n",
            "Find out about how we treat cervical cancer\n",
            "Find out more about how we treat cervical cancer\n",
            "Get updates on the latest cervical cancer news and treatments from The Washington Post\n",
            "More about cervical cancer\n",
            "Find out about cervical cancer\n",
            "More about the cervical cancer community\n",
            "Get updates on the latest cervical cancer news and treatments from The Washington Post\n",
            "Get updates on cervical cancer related stories\n",
            "Want to get updates from The Washington Post delivered straight to your inbox? Sign up for POLITICO Daily Newsletters and alerts, delivered weekday mornings.\n",
            "On Wednesday, Health & Human Services Secretary Kathleen Sebelius introduced the U.S. Advisory Council on Lifestyle and Health for HPV, which was established by Congress to address the pandemic. (The CDC)\n",
            "Secretary Sebelius introduced the U.S. Advisory Council on Lifestyle and Health (ACLH): The United States' largest and most authoritative anti-vaxxer agency.\n",
            "On Tuesday, the European Union introduced its own version of the HPV vaccine, which is the most popular sexually active drug in Europe and the fourth-most frequently used worldwide. (In addition, it was developed specifically in Asia.) The European Union implemented guidelines for HPV-positive cervical cancer patients, which were published last year. They were aimed at improving access to care for women with cervical cancer, for those with pre-cancers or those who are at risk from early stage cervical lesions or bacterial infections, and for pregnant women and their partners.\n",
            "The U.N.'s National Institute for Health and Care Policy released a report on the HPV vaccination in late May, which was part of a larger review of current cervical cancer research. It notes that the U.S. recommended a one-year mandatory waiting period for testing for cervical cancer. The U.N. Institute for Health and Care Policy also recommends against pre-pregnancy screening for cervical cancer, which is generally painful.\n",
            "The U.S. Centers for Disease Control and Prevention (CDC), which reports to Congress every year in response to the HPV vaccine, published a report a few months ago. (\n",
            "\n",
            "\n",
            "3: HuffPost is part of Verizon Media. We and our partners will store and/or access information on your device through the use of cookies and similar technologies, to display personalised ads and content, for ad and content measurement, audience insights and product development.\n",
            "Your personal data that may be used\n",
            "Information about your device and internet connection, including your IP address\n",
            "Browsing and search activity while using Verizon Media websites and apps\n",
            "Precise location\n",
            "Find out more about how we use your information in our Privacy Policy and Cookie Policy.\n",
            "To enable Verizon Media and our partners to process your personal data select 'I agree', or select 'Manage settings' for more information and to manage your choices. You can change your choices at any time by visiting Your Privacy Controls.\n",
            "\n",
            "\n",
            "4: It’s a good thing that we are living in a time where we can’t have discussions about what we should do in a time of crisis. We’ll hear from the president on Monday and he’ll say things that will get very different from day one.\n",
            "\n",
            "\n"
          ]
        }
      ],
      "source": [
        "model.eval()\n",
        "\n",
        "prompt = \"<|startoftext|>\"\n",
        "\n",
        "generated = torch.tensor(tokenizer.encode(prompt)).unsqueeze(0)\n",
        "generated = generated.to(device)\n",
        "\n",
        "print(generated)\n",
        "\n",
        "sample_outputs = model.generate(\n",
        "  generated,\n",
        "  do_sample=True,\n",
        "  top_k=50,\n",
        "  max_length = 1000,\n",
        "  top_p=0.95,\n",
        "  num_return_sequences=5\n",
        ")\n",
        "\n",
        "for i, sample_output in enumerate(sample_outputs):\n",
        "  print(\"{}: {}\\n\\n\".format(i, tokenizer.decode(sample_output, skip_special_tokens=True)))"
      ]
    }
  ],
  "metadata": {
    "accelerator": "GPU",
    "colab": {
      "gpuType": "V100",
      "provenance": []
    },
    "kernelspec": {
      "display_name": "Python 3",
      "name": "python3"
    },
    "language_info": {
      "codemirror_mode": {
        "name": "ipython",
        "version": 3
      },
      "file_extension": ".py",
      "mimetype": "text/x-python",
      "name": "python",
      "nbconvert_exporter": "python",
      "pygments_lexer": "ipython3",
      "version": "3.10.9"
    }
  },
  "nbformat": 4,
  "nbformat_minor": 0
>>>>>>> f68f680d0d381d42b7ed2e4686c386fc0252000d
}
