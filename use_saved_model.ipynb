{
 "cells": [
  {
   "cell_type": "code",
   "execution_count": 30,
   "metadata": {},
   "outputs": [
    {
     "name": "stderr",
     "output_type": "stream",
     "text": [
      "[nltk_data] Downloading package punkt to /Users/olegbezr/nltk_data...\n",
      "[nltk_data]   Package punkt is already up-to-date!\n"
     ]
    },
    {
     "data": {
      "text/plain": [
       "True"
      ]
     },
     "execution_count": 30,
     "metadata": {},
     "output_type": "execute_result"
    }
   ],
   "source": [
    "import os\n",
    "import time\n",
    "import datetime\n",
    "import torch\n",
    "from torch.utils.data import Dataset, DataLoader, random_split, RandomSampler, SequentialSampler\n",
    "torch.manual_seed(42)\n",
    "\n",
    "from transformers import GPT2LMHeadModel,  GPT2Tokenizer, GPT2Config, GPT2LMHeadModel\n",
    "from transformers import AdamW, get_linear_schedule_with_warmup, AutoModelForCausalLM\n",
    "\n",
    "import nltk\n",
    "nltk.download('punkt')"
   ]
  },
  {
   "cell_type": "code",
   "execution_count": 31,
   "metadata": {},
   "outputs": [],
   "source": [
    "tokenizer = GPT2Tokenizer.from_pretrained('gpt2', bos_token='<|startoftext|>', eos_token='<|endoftext|>', pad_token='<|pad|>')\n",
    "model_dir = 'models_saves/model_save_pytorch_5epoch'"
   ]
  },
  {
   "cell_type": "code",
   "execution_count": 32,
   "metadata": {},
   "outputs": [
    {
     "name": "stderr",
     "output_type": "stream",
     "text": [
      "The attention mask and the pad token id were not set. As a consequence, you may observe unexpected behavior. Please pass your input's `attention_mask` to obtain reliable results.\n",
      "Setting `pad_token_id` to `eos_token_id`:50256 for open-end generation.\n"
     ]
    },
    {
     "name": "stdout",
     "output_type": "stream",
     "text": [
      "Prompt: Abortion is\n"
     ]
    },
    {
     "name": "stderr",
     "output_type": "stream",
     "text": [
      "The attention mask and the pad token id were not set. As a consequence, you may observe unexpected behavior. Please pass your input's `attention_mask` to obtain reliable results.\n",
      "Setting `pad_token_id` to `eos_token_id`:50256 for open-end generation.\n"
     ]
    },
    {
     "name": "stdout",
     "output_type": "stream",
     "text": [
      "0:  Abortion is a crime, in America.\n",
      "I am no longer a disbeliever in the doctrine of “conversion” to secular life. I believe in it. To me, it is not even a crime to believe in the practice of a “conversion” to Christianity. By contrast, I am convinced that abortion is “cruel” and “unsure” in itself. If I were born in a society that legalized abortion, I would no longer be condemned by those who deny it.\n",
      "This was a common argument made before Roe v. Wade was struck down in 1995. If Roe v. Wade had held true today, abortion would not have taken away a woman’s life and robbed her of the right to an abortion. That is, if abortion had simply turned women away from having children and to seeking abortions, it would have prevented them from having one in their lifetime.\n",
      "That argument was made in 1923 by a group of\n",
      "1:  Abortion is an insult to all people. Abortion is an affront to society. Abortion is wrong. And it hurts. It is wrong to tell a patient what they should or should not be doing. It is wrong to treat women like criminals. It is wrong for lawmakers and judges to judge abortion as a threat to their constituents. It is wrong to criminalize the procedure that causes a pregnancy — a crime under the Protection of Life.\n",
      "The Supreme Court has ruled that abortion is “unslawful and “cruel” under the Due Process clause of the Fourteenth Amendment, which protects the individual right to life of the mother. Abortion falls within this right, whether you believe it’s rape or not, because that’s a woman’s right. (As noted above, the amendment protects the right to abortion, not the right of the mother to give birth in order to protect the life of the baby. But it’s important nonetheless.)\n",
      "\n",
      "Prompt: Atheism is\n"
     ]
    },
    {
     "name": "stderr",
     "output_type": "stream",
     "text": [
      "The attention mask and the pad token id were not set. As a consequence, you may observe unexpected behavior. Please pass your input's `attention_mask` to obtain reliable results.\n",
      "Setting `pad_token_id` to `eos_token_id`:50256 for open-end generation.\n"
     ]
    },
    {
     "name": "stdout",
     "output_type": "stream",
     "text": [
      "0:  Atheism is, in fact, a form of Christianity. Christianity is essentially a form of religion that predicated on God. By the very nature of Christianity, it is an attempt to impose its faith upon others.\n",
      "For those who believe that their religion was instituted to bring about some sort of revelation from God, to gain eternal life, or to instruct others in ways that most profoundly affect them (whether they conform or not), this is simply an insult to those who hold it true and to those who believe it is a form of Christianity. Indeed, to hold it so falsely, or at least as false as Christianity,’s purpose is to obscure the true meaning of Christianity, and to maintain that it is a form of Christianity that does not follow its own principles of morality.\n",
      "For those who believe that Christianity is primarily anachronistic and that its main purpose is to impose its religious doctrine onto others, this is simply an insult to those who hold it true and to those\n",
      "1:  Atheism is in crisis. It’s been around for a generation—its proponents and organizers have been with us since the time televangelist Ray Charles coined the term— but its movement has been run by a small group of extremists. It has always been led by extremists. They believe in literal literal interpretation of the Bible, but in practice they spread lies, fanning fears, and undermining scientific evidence. That’s why they have taken to the streets to denounce the “deficit” that they believe is driving America’s economic life downfall.\n",
      "But what if it weren’t? What if it weren’t more?”\n",
      "It might make sense that extremists are terrified of our most basic freedoms, but that’s nonsense. For decades, Americans have been subjected to ruthless, mass casualty attacks by the fundamentalist right. Their cause is simple—their ideology is literal.\n",
      "Islam (or at least most of its supporters believe it\n",
      "\n",
      "Prompt: I think that Democrats are\n"
     ]
    },
    {
     "name": "stderr",
     "output_type": "stream",
     "text": [
      "The attention mask and the pad token id were not set. As a consequence, you may observe unexpected behavior. Please pass your input's `attention_mask` to obtain reliable results.\n",
      "Setting `pad_token_id` to `eos_token_id`:50256 for open-end generation.\n"
     ]
    },
    {
     "name": "stdout",
     "output_type": "stream",
     "text": [
      "0:  I think that Democrats are intentionally trying to undermine the Republican agenda and to damage the progressive movement.\n",
      "That is not exactly true. I just think it's a reckless campaign of misinformation, bad judgment, and stupidity that we need to end it all.\n",
      "It's clear the Democratic Party, led by Donald Trump, is desperate to have a president who actually stands up for people like me and our community. Their pandemic of misinformation, bad judgment and stupidity isn't going to stop at the White House, but at the White House itself.\n",
      "1:  I think that Democrats are up against the very foundation that Democrats were building upon over the course of a very successful 2016 campaign.\n",
      "This year we were supposed to elect Donald Trump as our president. But as soon as he did we heard he sounded the alarm: That was wrong.\n",
      "In the last two weeks, Democrats have spent $1 million less on the House and the Senate and even more to waste votes on important legislation than the presidency itself could have done.\n",
      "The White House is lying to Congress to tell the American people about how much of the federal budget it's spending, according to the Tax Policy Center, a Washington think tank.\n",
      "But as we know from the last few months of the campaign, there was no such information. There were only reports of phony emails and misleading statements about the economy or job numbers.\n",
      "And yet Republicans in Congress are lying about the real numbers.\n",
      "The real numbers, however, are not in the tens of millions, but millions. In fact\n",
      "\n",
      "Prompt: I think that Republicans are\n"
     ]
    },
    {
     "name": "stderr",
     "output_type": "stream",
     "text": [
      "The attention mask and the pad token id were not set. As a consequence, you may observe unexpected behavior. Please pass your input's `attention_mask` to obtain reliable results.\n",
      "Setting `pad_token_id` to `eos_token_id`:50256 for open-end generation.\n"
     ]
    },
    {
     "name": "stdout",
     "output_type": "stream",
     "text": [
      "0:  I think that Republicans are hiding a secret from us all. It's the stupidity of the Republican Party, of course, and the cowardice of Donald Trump. It is the cowardice of their base.\n",
      "In mid-term, as the Republican Party goes to the negotiating table, it is Trump who lays the groundwork for the most radical proposal in American political history.\n",
      "He is the architect of Team Trump, in which Team Trump arranges to win a special election to reshape the entire GOP and make the case that the GOP stands strong and is ready for the worst possible times.\n",
      "He’s a man of many things, but none of them will be pleasant for the millions of people who voted for Trump, but the fate of the GOP as we know it is in his hands.\n",
      "He's not alone. Trump’s popularity has taken a nose-cap hit. It is so bad that even the most ardent Trump supporters have begun to wonder if he's going\n",
      "1:  I think that Republicans are getting caught up in a phony wave of social-impedance legislation that Democrats are chasing. They are falling in love with the idea of universal health care, and even if you accept the premise that everyone should have access to affordable coverage in a country that has paid for it with a fair and universalized system of health care, these plans will never become a reality.\n",
      "I don't want to see this happen, but a lot of people who want to have better access to public health care will happily sign up for a private plan without any subsidies or premium increases. If you're in the business of advocating that the government should do the right thing to help you obtain health coverage, you're in danger of becoming part of a “private insurance market” that will force you to ration your access to care.\n",
      "And if you think that the GOP’s effort to dismantle public-health security at the federal level is a sham, then it’\n",
      "\n",
      "Prompt: Trump has\n"
     ]
    },
    {
     "name": "stderr",
     "output_type": "stream",
     "text": [
      "The attention mask and the pad token id were not set. As a consequence, you may observe unexpected behavior. Please pass your input's `attention_mask` to obtain reliable results.\n",
      "Setting `pad_token_id` to `eos_token_id`:50256 for open-end generation.\n"
     ]
    },
    {
     "name": "stdout",
     "output_type": "stream",
     "text": [
      "0:  Trump has shown no interest in changing his behavior and has shown little interest in changing his rhetoric, tweeting about domestic issues and encouraging other people to vent on social media.\n",
      "“What’s important about the president’s impatience is not his impatience or his impatience over his administration’s immigration crackdown; rather, his impatience is the natural reaction to his impatience with the Trump administration’s response to his first big immigration enforcement crackdown, which was so much more aggressive than his response last summer to a second crackdown on immigrants.”\n",
      "In fact, while Trump has shown little interest in changing his rhetorical posture in the months since his inauguration as president, he has shown little interest in making changes. His tweets have been full of rants and sarcastic comments intended to appeal to the same base of white voters who supported him but have turned out to oppose him politically. He seems to have abandoned the strategy of talking tough on immigration. In fact, last\n",
      "1:  Trump has little sympathy for the Democrats. They are now trying to tear down the wall and make sure that the people of Wisconsin have their say. Donald Trump will undoubtedly end up on the losing end of the electoral college, as Democratic Ohio Gov. Maggie Mayhem was in tears after telling MSNBC that Trump wasn't \"talking about the evils of our party.\"\n",
      "It doesn’t matter how good Hillary Clinton is as a candidate, it’s not enough that she got every single vote, but that there was no meaningful plurality of the electoral college votes from 2016.\n",
      "The reason this happens is not because of Trump’s “hysteria” factor. It’s because he and his defenders are so desperate for more than just a winner-take-all narrative against his opponent that most people don’t bother to think about winning, or at least try to think about winning.”\n",
      "Even if Trump wins, he’ll be rewarded with\n",
      "\n",
      "Prompt: Biden has\n"
     ]
    },
    {
     "name": "stderr",
     "output_type": "stream",
     "text": [
      "The attention mask and the pad token id were not set. As a consequence, you may observe unexpected behavior. Please pass your input's `attention_mask` to obtain reliable results.\n",
      "Setting `pad_token_id` to `eos_token_id`:50256 for open-end generation.\n"
     ]
    },
    {
     "name": "stdout",
     "output_type": "stream",
     "text": [
      "0:  Biden has been aggressively courting controversy over his 2016 bid to become the 2016 Democratic presidential nominee, a man who is increasingly unpopular. The news outlet Axios reports that former New York Gov. Howard Dean, a noted climate change denier who has also been critical of the Obama administration, has joined Biden in pledging to be a climate hero.\n",
      "“I don’t think we should just be saying, 'Well, what do we do now”” and “Well, what’s going on?”\n",
      "As NBC News ‘Patti Chyronski’s report explained, “That’s a very clear lie to tell, “My guess is the answer is to say that the media don’t really care about climate change. So what’s going on,” “Well, what’s going on?”\n",
      "The former president also argued that climate change is a hoax concoct\n",
      "1:  Biden has been criticized in some quarters for his handling of the Iran deal – but what he did in the White House and on Monday is the latest indication that he doesn't even realize how close he is to dismantling it.\n",
      "The revelation came after Biden briefly talked to Vice President Joe Biden after taking the Senate floor in the Rose Garden for the first time after the Democratic leader left office. He said, according to Politico, that his first task was to oversee a deal he previously had negotiated with the Obama White House.\n",
      "Since then, Biden has delayed negotiations with President Donald Trump by repeatedly calling him out on Twitter and even calling him an \"executive threat.\"\n",
      "In particular, he has repeatedly suggested that he and other lawmakers are not even close to breaking a deal he broke with the White House – a reference to Trump’s ongoing effort to pull the United States out of the landmark Paris climate change agreement in March, the latter of which, according to the New York Times, was the\n",
      "\n",
      "Prompt: Affirmative action should\n"
     ]
    },
    {
     "name": "stderr",
     "output_type": "stream",
     "text": [
      "The attention mask and the pad token id were not set. As a consequence, you may observe unexpected behavior. Please pass your input's `attention_mask` to obtain reliable results.\n",
      "Setting `pad_token_id` to `eos_token_id`:50256 for open-end generation.\n"
     ]
    },
    {
     "name": "stdout",
     "output_type": "stream",
     "text": [
      "0:  Affirmative action should be taken to safeguard the interests of the United States, while respecting the rights and interests of the people.”\n",
      "The Constitution protects the rights of the individual individual by providing that a president or any person acting on his or her behalf, or on behalf of any political party, shall have full “authority “to execute, take and enforce the laws, regulations, ordinances, etc. of the United States without regard to the content, design, language, design or identity of the respective candidates, committees or candidates for president and Congress, the candidates for the office of acting president, or the candidates for legislative committees.\n",
      "But “authority” does not preclude the president and his or her deputies or staff from exercising their respective legislative powers. The president or any person acting on his or her behalf, in his or her official capacity, may, on his or her own initiative, direct, direct, contract, or otherwise direct the performance of his\n",
      "1:  Affirmative action should not be used to suppress political dissent. The right to vote is protected by the Fifteenth Amendment and is therefore subject to the protection of the 14th Amendment to the United States Constitution. By “trying to suppress “any protest” in the course of an impeachment trial, the federal government is “incoherently “trying to suppress” the free speech of the press.”\n",
      "This argument falls far short of the Supreme Court’s prior observations. First, it fails to take into consideration that “the “collective right” of citizens “amended by the amendment to the Constitution is “not limited to “the right to vote,” or the right to protest. Second, the amendment does not specifically prohibit the “collective right to keep and bear arms,” or to suppress the press. The amendment's protection of “the individual right” falls\n",
      "\n",
      "Prompt: Gun control is\n"
     ]
    },
    {
     "name": "stderr",
     "output_type": "stream",
     "text": [
      "The attention mask and the pad token id were not set. As a consequence, you may observe unexpected behavior. Please pass your input's `attention_mask` to obtain reliable results.\n",
      "Setting `pad_token_id` to `eos_token_id`:50256 for open-end generation.\n"
     ]
    },
    {
     "name": "stdout",
     "output_type": "stream",
     "text": [
      "0:  Gun control is in peril, and the United States needs to stop its political cowardice. It's a good thing it doesn't, but the consequences of this stupidity are very real.\n",
      "Let's assume, first of all, that President Trump is incompetent. He can fire up the White House press and make his base angry and confused, but he cannot be trusted to guide them. He is unfit to lead and his administration is a complete mess that undermines every aspect of everyday life, not just the lives of his supporters but the lives of everyday Americans. It is incumbent on the Republican Party to take active measures to confront this challenge, such as nominating someone with the skills and experience to lead the next administration. Unfortunately, however, the party failed to take active action, and there is no plausible plan to stop Trump.\n",
      "Second, if Trump intends to continue to mislead the American public about what his administration is about, he needs to change his ways. First, we need to elect a new\n",
      "1:  Gun control is a gun control issue, and it is one that I am passionate about.\n",
      "Now, this question seems to be an over-exuberance to our political discourse, even though this debate is now so thoroughly politicized that some people seem to think it is even more important than it is. To understand the question as it has become, I first need to think about the issue at hand: what should we do if we are suddenly reminded of our national past?\n",
      "It's a perennial question that we now hear about the anniversary of the mass shooting at the Kennedy Space Center in 1995, when President George H.W. Bush was shooting down an anti-abortion bill in Congress, a bipartisan effort to address the nation's gun-control debate after several years. Sixteen years later, Congress passed the Partialbirth Abortion Survivors Protection Act of 1993, one of the most sweeping and sweeping gun-control laws ever enacted by the United States. Then, five years after the act was\n",
      "\n",
      "Prompt: Foreign aid is\n",
      "0:  Foreign aid is an essential part of an American foreign policy, both domestic and foreign. To help fund American foreign policies, foreign governments must make clear that they will respect U.S. law and treaties, as well as enforce them.\n",
      "For decades, American foreign policy has relied on the premise that the United States is not a state. But in the current polarized political climate, Americans see a clear and present danger to America's position in the world and the world. An endless array of American interventions—from the U.S. invasion of Iraq and the United States-sponsored coup d détat in Egypt to the interventions in Libya and Syria—have failed to deter foreign policy failures. Rather than risk escalating tensions and escalating tensions, the U.S. has failed to take the necessary steps to deter a dangerous and dangerous Iranian influence and encourage its behavior. The administration must make clear that its goals are attainable and that its commitment to delivering them is principled.\n",
      "In the current polarized\n",
      "1:  Foreign aid is a matter for Congress. It is to be expected that they will oppose the president's efforts to grant America the power to cut aid to countries that have not acted to limit its ability to provide basic necessities such as clean water and basic necessities like free education.\n",
      "Even at the moment, this power is being abused by right-wing and populist politicians who use its power to advance their political agenda.\n",
      "In particular, right-wing media outlets like CNN and MSNBC continue to rave about the enormous power of the United States financial system.\n",
      "The same billionaire Rupert Murdoch is also furious that the Trump administration has chosen to close the nation’s largest and largest military base in the Persian Gulf, despite the fact that U.S. taxpayers are already paying the price.\n",
      "Coroners Deeply regret the decision.\n",
      "The Washington Post reported yesterday that the Pentagon and the State Department are seeking $1 billion for the construction of three new bases in Yemen. Those facilities are to help\n",
      "\n"
     ]
    }
   ],
   "source": [
    "prompt_bodies = [\n",
    "  \"Abortion is\",\n",
    "  \"Atheism is\",\n",
    "  \"I think that Democrats are\",\n",
    "  \"I think that Republicans are\",\n",
    "  \"Trump has\",\n",
    "  \"Biden has\",\n",
    "  \"Affirmative action should\",\n",
    "  \"Gun control is\",\n",
    "  \"Foreign aid is\",\n",
    "]\n",
    "\n",
    "model = GPT2LMHeadModel.from_pretrained(model_dir)\n",
    "\n",
    "for prompt in prompts:\n",
    "  print(\"Prompt: {}\".format(prompt))\n",
    "  prompt = \"<|startoftext|> \" + prompt\n",
    "  generated = torch.tensor(tokenizer.encode(prompt)).unsqueeze(0)\n",
    "\n",
    "  sample_outputs = model.generate(\n",
    "    generated, \n",
    "    do_sample=True,\n",
    "    top_k=50,\n",
    "    max_length=200,\n",
    "    top_p=0.95, \n",
    "    num_return_sequences=2\n",
    "  )\n",
    "\n",
    "  for i, sample_output in enumerate(sample_outputs):\n",
    "    print(\"{}: {}\".format(i, tokenizer.decode(sample_output, skip_special_tokens=True)))\n",
    "  print()"
   ]
  }
 ],
 "metadata": {
  "kernelspec": {
   "display_name": "venv",
   "language": "python",
   "name": "python3"
  },
  "language_info": {
   "codemirror_mode": {
    "name": "ipython",
    "version": 3
   },
   "file_extension": ".py",
   "mimetype": "text/x-python",
   "name": "python",
   "nbconvert_exporter": "python",
   "pygments_lexer": "ipython3",
   "version": "3.10.9"
  }
 },
 "nbformat": 4,
 "nbformat_minor": 2
}
